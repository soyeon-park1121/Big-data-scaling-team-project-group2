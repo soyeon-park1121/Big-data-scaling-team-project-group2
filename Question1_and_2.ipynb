{
  "nbformat": 4,
  "nbformat_minor": 0,
  "metadata": {
    "colab": {
      "name": "Question1 and 2.ipynb",
      "provenance": [],
      "collapsed_sections": []
    },
    "kernelspec": {
      "name": "python3",
      "display_name": "Python 3"
    },
    "language_info": {
      "name": "python"
    }
  },
  "cells": [
    {
      "cell_type": "code",
      "source": [
        "!pip install pyspark\n",
        "!pip install -U -q PyDrive\n",
        "!apt install openjdk-8-jdk-headless -qq\n",
        "os.environ[\"JAVA_HOME\"] = \"/usr/lib/jvm/java-8-openjdk-amd64\""
      ],
      "metadata": {
        "colab": {
          "base_uri": "https://localhost:8080/"
        },
        "id": "jxwNLieZkIY6",
        "outputId": "b125a5bc-8d78-43b7-f036-a0e8a2b75f96"
      },
      "execution_count": 8,
      "outputs": [
        {
          "output_type": "stream",
          "name": "stdout",
          "text": [
            "Collecting pyspark\n",
            "  Downloading pyspark-3.2.1.tar.gz (281.4 MB)\n",
            "\u001b[K     |████████████████████████████████| 281.4 MB 31 kB/s \n",
            "\u001b[?25hCollecting py4j==0.10.9.3\n",
            "  Downloading py4j-0.10.9.3-py2.py3-none-any.whl (198 kB)\n",
            "\u001b[K     |████████████████████████████████| 198 kB 45.1 MB/s \n",
            "\u001b[?25hBuilding wheels for collected packages: pyspark\n",
            "  Building wheel for pyspark (setup.py) ... \u001b[?25l\u001b[?25hdone\n",
            "  Created wheel for pyspark: filename=pyspark-3.2.1-py2.py3-none-any.whl size=281853642 sha256=41c60228bbeb2af6e64b7aac618e0fb402e614b21da8a6ad56965b0b4457e8dc\n",
            "  Stored in directory: /root/.cache/pip/wheels/9f/f5/07/7cd8017084dce4e93e84e92efd1e1d5334db05f2e83bcef74f\n",
            "Successfully built pyspark\n",
            "Installing collected packages: py4j, pyspark\n",
            "Successfully installed py4j-0.10.9.3 pyspark-3.2.1\n",
            "The following additional packages will be installed:\n",
            "  openjdk-8-jre-headless\n",
            "Suggested packages:\n",
            "  openjdk-8-demo openjdk-8-source libnss-mdns fonts-dejavu-extra\n",
            "  fonts-ipafont-gothic fonts-ipafont-mincho fonts-wqy-microhei\n",
            "  fonts-wqy-zenhei fonts-indic\n",
            "The following NEW packages will be installed:\n",
            "  openjdk-8-jdk-headless openjdk-8-jre-headless\n",
            "0 upgraded, 2 newly installed, 0 to remove and 39 not upgraded.\n",
            "Need to get 36.5 MB of archives.\n",
            "After this operation, 143 MB of additional disk space will be used.\n",
            "Selecting previously unselected package openjdk-8-jre-headless:amd64.\n",
            "(Reading database ... 155455 files and directories currently installed.)\n",
            "Preparing to unpack .../openjdk-8-jre-headless_8u312-b07-0ubuntu1~18.04_amd64.deb ...\n",
            "Unpacking openjdk-8-jre-headless:amd64 (8u312-b07-0ubuntu1~18.04) ...\n",
            "Selecting previously unselected package openjdk-8-jdk-headless:amd64.\n",
            "Preparing to unpack .../openjdk-8-jdk-headless_8u312-b07-0ubuntu1~18.04_amd64.deb ...\n",
            "Unpacking openjdk-8-jdk-headless:amd64 (8u312-b07-0ubuntu1~18.04) ...\n",
            "Setting up openjdk-8-jre-headless:amd64 (8u312-b07-0ubuntu1~18.04) ...\n",
            "update-alternatives: using /usr/lib/jvm/java-8-openjdk-amd64/jre/bin/orbd to provide /usr/bin/orbd (orbd) in auto mode\n",
            "update-alternatives: using /usr/lib/jvm/java-8-openjdk-amd64/jre/bin/servertool to provide /usr/bin/servertool (servertool) in auto mode\n",
            "update-alternatives: using /usr/lib/jvm/java-8-openjdk-amd64/jre/bin/tnameserv to provide /usr/bin/tnameserv (tnameserv) in auto mode\n",
            "Setting up openjdk-8-jdk-headless:amd64 (8u312-b07-0ubuntu1~18.04) ...\n",
            "update-alternatives: using /usr/lib/jvm/java-8-openjdk-amd64/bin/idlj to provide /usr/bin/idlj (idlj) in auto mode\n",
            "update-alternatives: using /usr/lib/jvm/java-8-openjdk-amd64/bin/wsimport to provide /usr/bin/wsimport (wsimport) in auto mode\n",
            "update-alternatives: using /usr/lib/jvm/java-8-openjdk-amd64/bin/jsadebugd to provide /usr/bin/jsadebugd (jsadebugd) in auto mode\n",
            "update-alternatives: using /usr/lib/jvm/java-8-openjdk-amd64/bin/native2ascii to provide /usr/bin/native2ascii (native2ascii) in auto mode\n",
            "update-alternatives: using /usr/lib/jvm/java-8-openjdk-amd64/bin/javah to provide /usr/bin/javah (javah) in auto mode\n",
            "update-alternatives: using /usr/lib/jvm/java-8-openjdk-amd64/bin/hsdb to provide /usr/bin/hsdb (hsdb) in auto mode\n",
            "update-alternatives: using /usr/lib/jvm/java-8-openjdk-amd64/bin/clhsdb to provide /usr/bin/clhsdb (clhsdb) in auto mode\n",
            "update-alternatives: using /usr/lib/jvm/java-8-openjdk-amd64/bin/xjc to provide /usr/bin/xjc (xjc) in auto mode\n",
            "update-alternatives: using /usr/lib/jvm/java-8-openjdk-amd64/bin/schemagen to provide /usr/bin/schemagen (schemagen) in auto mode\n",
            "update-alternatives: using /usr/lib/jvm/java-8-openjdk-amd64/bin/extcheck to provide /usr/bin/extcheck (extcheck) in auto mode\n",
            "update-alternatives: using /usr/lib/jvm/java-8-openjdk-amd64/bin/jhat to provide /usr/bin/jhat (jhat) in auto mode\n",
            "update-alternatives: using /usr/lib/jvm/java-8-openjdk-amd64/bin/wsgen to provide /usr/bin/wsgen (wsgen) in auto mode\n"
          ]
        }
      ]
    },
    {
      "cell_type": "code",
      "source": [
        "import os\n",
        "import pandas as pd\n",
        "\n",
        "import pyspark"
      ],
      "metadata": {
        "id": "YBZjL13sZJRd"
      },
      "execution_count": 12,
      "outputs": []
    },
    {
      "cell_type": "markdown",
      "source": [
        "## Load data"
      ],
      "metadata": {
        "id": "4YnIvBfxYa40"
      }
    },
    {
      "cell_type": "code",
      "source": [
        "from google.colab import drive\n",
        "drive.mount('/content/drive')"
      ],
      "metadata": {
        "colab": {
          "base_uri": "https://localhost:8080/"
        },
        "id": "u_P-a7I7YgJF",
        "outputId": "b8b2b603-b5db-4b19-b195-765d0f8871c8"
      },
      "execution_count": 3,
      "outputs": [
        {
          "output_type": "stream",
          "name": "stdout",
          "text": [
            "Drive already mounted at /content/drive; to attempt to forcibly remount, call drive.mount(\"/content/drive\", force_remount=True).\n"
          ]
        }
      ]
    },
    {
      "cell_type": "code",
      "source": [
        "cur_path = \"/content/drive/MyDrive/Colab Notebooks/Big-data-scaling-team-project-group2/\"\n",
        "os.chdir(cur_path)\n",
        "!pwd"
      ],
      "metadata": {
        "colab": {
          "base_uri": "https://localhost:8080/"
        },
        "id": "kFLyerzZYf3L",
        "outputId": "9956dafb-b640-41d4-bcaa-a7c933cadc28"
      },
      "execution_count": 4,
      "outputs": [
        {
          "output_type": "stream",
          "name": "stdout",
          "text": [
            "/content/drive/MyDrive/Colab Notebooks/Big-data-scaling-team-project-group2\n"
          ]
        }
      ]
    },
    {
      "cell_type": "code",
      "source": [
        "from pyspark.sql import SparkSession\n",
        "spark = SparkSession.builder.appName('final').getOrCreate()"
      ],
      "metadata": {
        "id": "Yl1KcW9MpxMB"
      },
      "execution_count": 14,
      "outputs": []
    },
    {
      "cell_type": "code",
      "source": [
        "data = spark.read.csv('data/cleaned_data.csv',inferSchema=True,header=True)"
      ],
      "metadata": {
        "id": "O3XW2N_oYer9"
      },
      "execution_count": 15,
      "outputs": []
    },
    {
      "cell_type": "code",
      "source": [
        "data.show()"
      ],
      "metadata": {
        "colab": {
          "base_uri": "https://localhost:8080/"
        },
        "id": "Xwsji02GZZSV",
        "outputId": "11a156b7-1f28-498f-8abe-0fccdc44f92a"
      },
      "execution_count": 16,
      "outputs": [
        {
          "output_type": "stream",
          "name": "stdout",
          "text": [
            "+---+----+---------+-------------------+--------------------+-----------+------------+-----+------------------+--------+------+--------+--------------------+-----+------------+--------+----------+\n",
            "|_c0|year|     make|              model|                trim|       body|transmission|state|         condition|odometer| color|interior|              seller|  mmr|sellingprice|saledate|madeRegion|\n",
            "+---+----+---------+-------------------+--------------------+-----------+------------+-----+------------------+--------+------+--------+--------------------+-----+------------+--------+----------+\n",
            "|  0|2015|      Kia|            Sorento|                  LX|        suv|   automatic|   ca|               5.0| 16639.0| white|   black|kia motors americ...|20500|       21500|    2014|        5x|\n",
            "|  1|2015|      Kia|            Sorento|                  LX|        suv|   automatic|   ca|               5.0|  9393.0| white|   beige|kia motors americ...|20800|       21500|    2014|        5x|\n",
            "|  2|2014|      BMW|           3 Series|          328i SULEV|      sedan|   automatic|   ca|               4.5|  1331.0|  gray|   black|financial service...|31900|       30000|    2015|        wb|\n",
            "|  3|2015|    Volvo|                S60|                  T5|      sedan|   automatic|   ca|               4.1| 14282.0| white|   black|volvo na rep/worl...|27500|       27750|    2015|        yv|\n",
            "|  4|2014|      BMW|6 Series Gran Coupe|                650i|      sedan|   automatic|   ca|               4.3|  2641.0|  gray|   black|financial service...|66000|       67000|    2014|        wb|\n",
            "|  5|2015|   Nissan|             Altima|               2.5 S|      sedan|   automatic|   ca|               1.0|  5554.0|  gray|   black|enterprise vehicl...|15350|       10900|    2014|        1n|\n",
            "|  6|2014|      BMW|                 M5|                Base|      sedan|   automatic|   ca|               3.4| 14943.0| black|   black|the hertz corpora...|69000|       65000|    2014|        wb|\n",
            "|  7|2014|Chevrolet|              Cruze|                 1LT|      sedan|   automatic|   ca|               2.0| 28617.0| black|   black|enterprise vehicl...|11900|        9800|    2014|        1g|\n",
            "|  8|2014|     Audi|                 A4|2.0T Premium Plus...|      sedan|   automatic|   ca|               4.2|  9557.0| white|   black|  audi mission viejo|32100|       32250|    2014|        wa|\n",
            "|  9|2014|Chevrolet|             Camaro|                  LT|convertible|   automatic|   ca|               3.0|  4809.0|   red|   black|  d/m auto sales inc|26300|       17500|    2015|        2g|\n",
            "| 10|2014|     Audi|                 A6|3.0T Prestige qua...|      sedan|   automatic|   ca|               4.8| 14414.0| black|   black|   desert auto trade|47300|       49750|    2014|        wa|\n",
            "| 11|2015|      Kia|             Optima|                  LX|      sedan|   automatic|   ca|               4.8|  2034.0|   red|     tan|  kia motors finance|15150|       17700|    2014|        5x|\n",
            "| 12|2015|     Ford|             Fusion|                  SE|      sedan|   automatic|   ca|               2.0|  5559.0| white|   beige|enterprise vehicl...|15350|       12000|    2015|        3f|\n",
            "| 13|2015|      Kia|            Sorento|                  LX|        suv|   automatic|   ca|               5.0| 14634.0|silver|   black|kia motors americ...|20600|       21500|    2014|        5x|\n",
            "| 14|2014|Chevrolet|              Cruze|                 2LT|      sedan|   automatic|   ca|3.4365174321136176| 15686.0|  blue|   black|avis rac/san leandro|13900|       10600|    2014|        1g|\n",
            "| 15|2015|   Nissan|             Altima|               2.5 S|      sedan|   automatic|   ca|               2.0| 11398.0| black|   black|enterprise vehicl...|14750|       14100|    2014|        1n|\n",
            "| 16|2015|  Hyundai|             Sonata|                  SE|      sedan|   automatic|   ca|3.4365174321136176|  8311.0|   red|   black|            avis tra|15200|        4200|    2014|        5n|\n",
            "| 17|2014|     Audi|                 Q5|2.0T Premium Plus...|        suv|   automatic|   ca|               4.9|  7983.0| white|   black|audi north scotts...|37100|       40000|    2014|        wa|\n",
            "| 18|2014|Chevrolet|             Camaro|                  LS|      coupe|   automatic|   ca|               1.7| 13441.0| black|   black|wells fargo deale...|17750|       17000|    2014|        2g|\n",
            "| 19|2014|      BMW|           6 Series|                650i|convertible|   automatic|   ca|               3.4|  8819.0| black|   black|the hertz corpora...|68000|       67200|    2014|        wb|\n",
            "+---+----+---------+-------------------+--------------------+-----------+------------+-----+------------------+--------+------+--------+--------------------+-----+------------+--------+----------+\n",
            "only showing top 20 rows\n",
            "\n"
          ]
        }
      ]
    },
    {
      "cell_type": "code",
      "source": [
        "data.cache()\n",
        "data.printSchema()"
      ],
      "metadata": {
        "colab": {
          "base_uri": "https://localhost:8080/"
        },
        "id": "BMhV_7mDqD64",
        "outputId": "cb19c75f-0241-4e14-c2c9-85e4a39a0030"
      },
      "execution_count": 17,
      "outputs": [
        {
          "output_type": "stream",
          "name": "stdout",
          "text": [
            "root\n",
            " |-- _c0: integer (nullable = true)\n",
            " |-- year: integer (nullable = true)\n",
            " |-- make: string (nullable = true)\n",
            " |-- model: string (nullable = true)\n",
            " |-- trim: string (nullable = true)\n",
            " |-- body: string (nullable = true)\n",
            " |-- transmission: string (nullable = true)\n",
            " |-- state: string (nullable = true)\n",
            " |-- condition: double (nullable = true)\n",
            " |-- odometer: double (nullable = true)\n",
            " |-- color: string (nullable = true)\n",
            " |-- interior: string (nullable = true)\n",
            " |-- seller: string (nullable = true)\n",
            " |-- mmr: integer (nullable = true)\n",
            " |-- sellingprice: integer (nullable = true)\n",
            " |-- saledate: integer (nullable = true)\n",
            " |-- madeRegion: string (nullable = true)\n",
            "\n"
          ]
        }
      ]
    },
    {
      "cell_type": "markdown",
      "source": [
        "- Create a model to predict selling prices for cars. We will split data, create a few models using \n",
        "MLlib, and then compare their accuracy. When we handle modeling, we will use a data pipeline \n",
        "from Spark. \n",
        " \n"
      ],
      "metadata": {
        "id": "gNEMdZhxYR79"
      }
    },
    {
      "cell_type": "code",
      "execution_count": 35,
      "metadata": {
        "id": "vQ-pusKaYCBB"
      },
      "outputs": [],
      "source": [
        "from pyspark.ml import Pipeline\n",
        "\n",
        "from pyspark.ml.feature import OneHotEncoder\n",
        "from pyspark.ml.feature import StringIndexer\n",
        "\n",
        "from pyspark.ml.feature import VectorAssembler\n",
        "from pyspark.ml.feature import Normalizer"
      ]
    },
    {
      "cell_type": "code",
      "source": [
        "\n",
        "# |-- state: string (nullable = true)\n",
        "# |-- color: string (nullable = true)\n",
        "# |-- interior: string (nullable = true)\n",
        "# |-- seller: string (nullable = true)\n",
        "# |-- sellingprice: integer (nullable = true)\n",
        "# |-- madeRegion: string (nullable = true)"
      ],
      "metadata": {
        "id": "bYdngouHsaIo"
      },
      "execution_count": 32,
      "outputs": []
    },
    {
      "cell_type": "code",
      "source": [
        "make_stringIndexer_l=StringIndexer(inputCol=\"make\", outputCol=\"makeIndex\")\n",
        "model_stringIndexer_l=StringIndexer(inputCol=\"model\", outputCol=\"modelIndex\")\n",
        "trim_stringIndexer_l=StringIndexer(inputCol=\"trim\", outputCol=\"trimIndex\")\n",
        "body_stringIndexer_l=StringIndexer(inputCol=\"body\", outputCol=\"bodyIndex\")\n",
        "transmission_stringIndexer_l=StringIndexer(inputCol=\"transmission\", outputCol=\"transmissionIndex\")\n",
        "\n",
        "make_hotEncoder=OneHotEncoder(inputCol=\"makeIndex\", outputCol=\"makeVector\")\n",
        "model_hotEncoder=OneHotEncoder(inputCol=\"modelIndex\", outputCol=\"modelVector\")\n",
        "trim_hotEncoder=OneHotEncoder(inputCol=\"trimIndex\", outputCol=\"trimVector\")\n",
        "body_hotEncoder=OneHotEncoder(inputCol=\"bodyIndex\", outputCol=\"bodyVector\")\n",
        "transmission_hotEncoder=OneHotEncoder(inputCol=\"transmissionIndex\", outputCol=\"transmissionVector\")\n",
        "\n",
        "assembler = VectorAssembler(inputCols=[\"year\",\"makeVector\",\"modelVector\",\"trimVector\",\"bodyVector\",\"transmissionVector\",\"condition\",\"odometer\",\"mmr\",\"saledate\"],outputCol='unNorm_features')\n",
        "\n",
        "normalizer = Normalizer(inputCol=\"unNorm_features\", outputCol=\"features\", p=1.0)\n",
        "\n",
        "pipeline = Pipeline(stages=[make_stringIndexer_l, model_stringIndexer_l,trim_stringIndexer_l,body_stringIndexer_l,transmission_stringIndexer_l,make_hotEncoder,model_hotEncoder,trim_hotEncoder,body_hotEncoder,transmission_hotEncoder,assembler,normalizer])\n",
        "\n",
        "model=pipeline.fit(data)\n",
        "clean_data=model.transform(data)\n",
        "prepare_data=clean_data.select([\"features\",\"sellingprice\"])"
      ],
      "metadata": {
        "id": "mJEv1kqDpAkI"
      },
      "execution_count": 37,
      "outputs": []
    },
    {
      "cell_type": "code",
      "source": [
        "prepare_data.show()"
      ],
      "metadata": {
        "colab": {
          "base_uri": "https://localhost:8080/"
        },
        "id": "fF09Di1YpAWh",
        "outputId": "411171dd-bf98-40a4-c77d-e0f5348f2b5a"
      },
      "execution_count": 38,
      "outputs": [
        {
          "output_type": "stream",
          "name": "stdout",
          "text": [
            "+--------------------+------------+\n",
            "|            features|sellingprice|\n",
            "+--------------------+------------+\n",
            "|(2369,[0,9,92,830...|       21500|\n",
            "|(2369,[0,9,92,830...|       21500|\n",
            "|(2369,[0,8,60,150...|       30000|\n",
            "|(2369,[0,27,168,9...|       27750|\n",
            "|(2369,[0,8,450,97...|       67000|\n",
            "|(2369,[0,3,53,838...|       10900|\n",
            "|(2369,[0,8,447,82...|       65000|\n",
            "|(2369,[0,2,71,857...|        9800|\n",
            "|(2369,[0,20,113,1...|       32250|\n",
            "|(2369,[0,2,124,83...|       17500|\n",
            "|(2369,[0,20,198,1...|       49750|\n",
            "|(2369,[0,9,84,830...|       17700|\n",
            "|(2369,[0,1,55,829...|       12000|\n",
            "|(2369,[0,9,92,830...|       21500|\n",
            "|(2369,[0,2,71,867...|       10600|\n",
            "|(2369,[0,3,53,838...|       14100|\n",
            "|(2369,[0,7,68,829...|        4200|\n",
            "|(2369,[0,20,236,1...|       40000|\n",
            "|(2369,[0,2,124,83...|       17000|\n",
            "|(2369,[0,8,212,97...|       67200|\n",
            "+--------------------+------------+\n",
            "only showing top 20 rows\n",
            "\n"
          ]
        }
      ]
    },
    {
      "cell_type": "markdown",
      "source": [
        "split train test"
      ],
      "metadata": {
        "id": "JE7FhYH5z_qO"
      }
    },
    {
      "cell_type": "code",
      "source": [
        "train, test = prepare_data.randomSplit([0.7, 0.3], seed=12345)"
      ],
      "metadata": {
        "id": "4fnBa5MUz_Gf"
      },
      "execution_count": 40,
      "outputs": []
    },
    {
      "cell_type": "markdown",
      "source": [
        "linear regression"
      ],
      "metadata": {
        "id": "1komVh640HH1"
      }
    },
    {
      "cell_type": "code",
      "source": [
        "from pyspark.ml.regression import LinearRegression"
      ],
      "metadata": {
        "id": "-gbWecScy8b3"
      },
      "execution_count": 39,
      "outputs": []
    },
    {
      "cell_type": "code",
      "source": [
        "lr = LinearRegression(featuresCol='features',labelCol='sellingprice')\n",
        "lrModel=lr.fit(train)"
      ],
      "metadata": {
        "id": "HcOj20uny-1G"
      },
      "execution_count": 42,
      "outputs": []
    },
    {
      "cell_type": "code",
      "source": [
        "trainingSummary=lrModel.summary\n",
        "trainingSummary.predictions.show()"
      ],
      "metadata": {
        "colab": {
          "base_uri": "https://localhost:8080/"
        },
        "id": "Ghtztp7y0UL1",
        "outputId": "229b3f13-90c7-4dda-a9b7-25b70a7e4e28"
      },
      "execution_count": 43,
      "outputs": [
        {
          "output_type": "stream",
          "name": "stderr",
          "text": [
            "/usr/local/lib/python3.7/dist-packages/pyspark/sql/context.py:127: FutureWarning: Deprecated in 3.0.0. Use SparkSession.builder.getOrCreate() instead.\n",
            "  FutureWarning\n"
          ]
        },
        {
          "output_type": "stream",
          "name": "stdout",
          "text": [
            "+--------------------+------------+------------------+\n",
            "|            features|sellingprice|        prediction|\n",
            "+--------------------+------------+------------------+\n",
            "|(2369,[0,1,54,828...|      1100.0| 6639.653438097168|\n",
            "|(2369,[0,1,54,831...|     32900.0|22704.952660171584|\n",
            "|(2369,[0,1,54,831...|     16500.0| 14756.04615785557|\n",
            "|(2369,[0,1,54,831...|     35000.0|24835.128366274967|\n",
            "|(2369,[0,1,54,831...|     34100.0|24297.780206756488|\n",
            "|(2369,[0,1,54,831...|     38200.0|26986.304788328227|\n",
            "|(2369,[0,1,54,831...|     38000.0|28273.611800343057|\n",
            "|(2369,[0,1,54,831...|     39400.0|29187.467324948208|\n",
            "|(2369,[0,1,54,831...|     37500.0|30361.811736945157|\n",
            "|(2369,[0,1,54,831...|     37200.0|30893.695511301252|\n",
            "|(2369,[0,1,54,831...|     37500.0|31311.375543799273|\n",
            "|(2369,[0,1,54,831...|     35000.0| 31045.09378872145|\n",
            "|(2369,[0,1,54,831...|     37500.0|  32087.3690650294|\n",
            "|(2369,[0,1,54,831...|     38000.0| 32097.29030477384|\n",
            "|(2369,[0,1,54,831...|     16400.0|32526.054398902426|\n",
            "|(2369,[0,1,54,831...|     37700.0| 34449.44261626778|\n",
            "|(2369,[0,1,54,831...|     39800.0| 34596.21835171679|\n",
            "|(2369,[0,1,54,831...|     38200.0|  34700.5399381083|\n",
            "|(2369,[0,1,54,831...|     39700.0| 34301.73261934141|\n",
            "|(2369,[0,1,54,831...|     38500.0|35358.678188622114|\n",
            "+--------------------+------------+------------------+\n",
            "only showing top 20 rows\n",
            "\n"
          ]
        }
      ]
    },
    {
      "cell_type": "markdown",
      "source": [
        "evaluate"
      ],
      "metadata": {
        "id": "CSREO7cu1D6O"
      }
    },
    {
      "cell_type": "code",
      "source": [
        "test_results = lrModel.evaluate(test)"
      ],
      "metadata": {
        "id": "ZFTkQTSA1sCA"
      },
      "execution_count": 49,
      "outputs": []
    },
    {
      "cell_type": "code",
      "source": [
        "test_results.residuals.show()\n",
        "print(\"RMSE: {}\".format(test_results.rootMeanSquaredError))"
      ],
      "metadata": {
        "colab": {
          "base_uri": "https://localhost:8080/"
        },
        "id": "QvOPXzSQ1Frv",
        "outputId": "ec5a6dea-24bd-4442-acab-59d698328883"
      },
      "execution_count": 50,
      "outputs": [
        {
          "output_type": "stream",
          "name": "stderr",
          "text": [
            "/usr/local/lib/python3.7/dist-packages/pyspark/sql/context.py:127: FutureWarning: Deprecated in 3.0.0. Use SparkSession.builder.getOrCreate() instead.\n",
            "  FutureWarning\n"
          ]
        },
        {
          "output_type": "stream",
          "name": "stdout",
          "text": [
            "+-------------------+\n",
            "|          residuals|\n",
            "+-------------------+\n",
            "|  8720.981913874264|\n",
            "|  5574.711462419735|\n",
            "|  4843.071746952126|\n",
            "| 1384.3208506962474|\n",
            "|  3254.248134382724|\n",
            "| 3585.0672153859996|\n",
            "| 1390.0147223799686|\n",
            "|-6121.0688488848355|\n",
            "| -3580.435778712119|\n",
            "|-5507.6535243475155|\n",
            "|-1870.0272529217764|\n",
            "| -2423.447186637248|\n",
            "| 177.23318536717488|\n",
            "| -4258.203970480245|\n",
            "| -5175.710256160506|\n",
            "| -4634.240876838034|\n",
            "| -4539.435085651439|\n",
            "| -607.4443307321999|\n",
            "| -2407.910816213531|\n",
            "|-2728.3173092344405|\n",
            "+-------------------+\n",
            "only showing top 20 rows\n",
            "\n",
            "RMSE: 3559.502608778501\n"
          ]
        }
      ]
    },
    {
      "cell_type": "markdown",
      "source": [
        "- Find important factors to predict the car price. After selecting the final model having the highest \n",
        "accuracy, we will explore the importance of each attribute by using Spark."
      ],
      "metadata": {
        "id": "hEGvQevqYWhk"
      }
    },
    {
      "cell_type": "code",
      "source": [
        "print(\"Coefficients: {}\".format(str(lrModel.coefficients))) # For each feature...\n",
        "print(len(lrModel.coefficients))\n",
        "print('\\n')\n",
        "print(\"Intercept:{}\".format(str(lrModel.intercept)))"
      ],
      "metadata": {
        "colab": {
          "base_uri": "https://localhost:8080/"
        },
        "id": "B-cqusvuYXKI",
        "outputId": "002fe38a-8ac2-477a-94a6-c89186bb6b1d"
      },
      "execution_count": 48,
      "outputs": [
        {
          "output_type": "stream",
          "name": "stdout",
          "text": [
            "Coefficients: [-87845.45603156186,-30442640.112301424,-43684072.362098776,-78491526.37796564,-51004348.51116457,-53484597.32233624,-42061157.14240239,-77079696.3518302,84698784.05170798,-78999506.33664387,-75619517.54018945,32902450.58956069,-80843696.6035799,16445723.750922227,-47984632.49664132,70369866.33073246,17333733.06026358,-95145652.86228175,51552244.54429101,-71715294.69490318,24436530.07202342,17281227.639634598,13435362.876916237,-93450145.15965384,10592260.16297603,-2897167.276407977,-48662310.02665152,22418769.592540767,-70262974.50634494,-113258359.9341822,-51793901.072072804,284279909.4197354,-71154110.99631181,-174810819.19438878,576924378.8291109,-52411306.54883184,-101852343.64671823,180250342.59538186,-59547820.73526383,-51677968.68076685,-95913630.90165076,-73063630.02754484,195684368.78306895,2024047374.3899825,787662541.2295889,1080204734.2590709,-396379712.5609114,5677055901.966856,-507864875.6931954,8973638927.71915,214386384.82615927,2985329623.9075727,-124566651.33729185,-9800147.411536142,94984133.59792957,-57898702.23874996,-35872749.298306376,-111570219.20005997,-67623141.24653734,-15610485.670085307,-52905194.54844289,-84817796.67120014,-116091939.24324968,87593075.19973372,-68077055.83164743,-5649691.295666054,-63188755.400045425,-116469216.2524582,-65056998.8960427,59481840.870928995,110834711.01644601,-159644753.7230196,-78174578.40655945,-95394335.29859337,-52060932.59014715,-43871019.28417839,-52824480.140795544,-51829774.99459243,-84961536.48077118,-135578049.37617403,122548012.9368866,-43962048.28861408,-33432456.062700965,-33578600.63232781,-47176918.70282642,69646995.64327012,-89543264.43161798,-50789989.65282529,-9032127.974408524,39630863.77764801,-67692015.20635086,3446619.124439884,-103252703.85916586,-28037957.11911846,-96783149.49511908,5216618.747713135,-93693577.58589874,-140436303.11844632,292714949.81398976,-108437905.65678981,-23589119.316564925,-103993305.54523021,-433386089.6883128,128709755.80374193,-54271488.48307782,-135992907.89161253,-114035084.12849243,502677471.6396303,-118923086.70058315,732131448.3491049,131497081.62125096,-63384310.44064654,154990377.87151057,-64095572.8839556,58279142.57385234,102494266.6410391,-42004747.32910224,-38105263.49978759,71669753.52462693,60755410.94254698,14985808.044418463,-73052012.18925981,47826064.55041463,-52187858.10923601,-117525274.45658289,-42040860.684562825,-110816174.54465126,-43535115.57573838,89781897.594,64217038.1886044,-137967032.09339765,-143448664.30254033,-146091392.58397293,-200632503.29974735,-95295106.98458587,-194713859.42410368,-180696414.34746793,-106772554.73915565,-5594089.631283763,184550661.1283549,-33222632.50019488,-153627474.01378325,175663000.26113805,-34440497.675397836,378685696.60141283,45237269.84202487,-48403880.2576939,202149016.06540745,-188317096.35117573,-113129788.16045234,199483077.17324245,-208023753.25562632,240233148.40381292,-56504243.20905663,106901511.64004199,-100660018.98941784,-78059944.64800864,-303273317.7292591,-232295381.23729342,-60445752.46055324,-128825272.75904712,32867793.7329716,-66147506.22073044,-44111988.89432256,-1003114634.4884671,405600542.2016333,10340941.477947297,574441172.5107378,32392668.526945442,56567824.69314338,-59163469.40756973,44565273.51224677,-100115721.24005675,-272078597.81838137,704430629.4126543,-124182157.28984417,49794482.107578054,-201762180.2265289,-217916102.48925745,155687619.73710683,635142614.2484951,392537701.13564616,-367772972.46284693,-50334696.03217863,-103232331.92768365,-249368497.2016295,-161395938.0794643,-45705748.91052868,-27825414.264011387,336986927.6907918,-47979956.74158851,5209756.95955053,-176217416.82940948,-23870491.475683797,-3831243.9456887306,-133614786.36025178,18002789.508519564,157543227.07086584,-13252009.358095422,35358522.5694899,94398589.52312542,131988441.77701214,11872533.620657936,177219862.4495579,-130184852.28019081,216323283.04683656,-13903448.131300561,757426792.7320982,-64102961.61088691,-115992654.71201758,-33725103.99731172,-63306436.25636947,-1759517249.6943977,453454385.8673786,-154803922.98770237,-3314518.1395890745,30828310.049402885,-6112730.270838097,110285021.27978973,792165854.0622633,-84729002.25638705,-257889521.5989362,-108771072.4118614,-65215307.497693755,-211667555.28791013,76859277.69484895,61110451.26660261,320025154.752538,-146971471.5879543,50040433.22420923,766978298.8433322,158573654.71427888,259283990.13963693,-63586224.196418844,-152110708.9032224,-97424087.40144189,54335540.65821486,-139578211.95221695,-96259279.93791339,231077734.9320522,-77794010.76341696,-144497797.1262953,-153019216.5484391,453379017.46110976,13208913.52816895,-140758670.0931288,-112172110.79843351,-119960506.39845711,-76824748.20522,-91224423.70911522,188033593.4009639,-61281952.092579715,-70833631.55162425,-213396812.0438704,-87575810.29218188,379585563.9763184,-128161449.09891373,690156603.3400646,-144966304.60476092,665733626.5654148,32866860.797828853,-79570607.60170446,237768448.1479557,-255006607.20105556,53758404.879645206,-84332042.40409356,-24411960.99220003,-171431023.43560693,-13581823.150425995,-10263384.266954767,-70517204.04543154,15742395.471067544,-16729461.114145884,1199777506.0544693,-268632396.89697284,-51677968.68076685,84054467.79025753,112982816.7221628,311740281.36369765,30968406.8420699,219731927.58211204,-120590685.37375617,-114069450.55744742,95474590.29358779,64851071.75772558,-197753855.60604626,-196104410.68206498,33710529.72997143,-72048179.34129077,-187211847.01103228,-40866742.499472715,438334368.560712,9670419.430099437,46731506.20714878,-367895151.65226877,-74130060.95046566,-491119174.35373753,-25141133.00785215,-571811738.5223883,-156648556.8623146,42069954.02621016,58802919.295008644,142721253.61028215,-156055829.6723417,-110709469.10408999,-40601603.83234117,-115762085.63844353,-204505756.09234372,-135509790.76087472,-196183485.92796066,-115745381.72447269,-260463572.10757828,-160911518.70288637,396103029.7156801,-209937930.91124174,-191081468.4588618,37457271.402302444,418291154.5397657,-14396153.629008204,734012906.6975694,23249303.1300063,607836406.423439,-59635698.84628246,-179217071.05207208,5340367.780304981,-189520459.57247928,3043474.7792926608,23981312.44812723,-226116603.99256068,-167795829.577924,-143356409.85827726,1643758815.218606,-290461746.1846046,4828724.811594326,151630086.57049748,-97373004.11122565,63922987.477943964,693789935.0083833,583056884.576156,145447352.06730434,-95545770.98536672,-137057424.2128653,-195937859.8964624,140663033.8586598,-274828709.1136414,18429680.806219388,-388297322.09843504,-134688007.94784063,-3594753.2729518763,2402360054.975961,-309782636.7840568,-12484808.10170571,-49853155.26397494,-303500224.0453272,-161824650.32794666,68011960.78826366,-30115165.038649607,112558252.79241776,-32966734.830239933,-2640278.0043178964,7411342.1619530395,887551824.2730641,-70359539.6819111,596958847.5271579,46031341.9139921,-90621981.44176999,-35569798.498767436,222752811.82290205,676188010.2211756,-265032531.9471218,65546088.71109241,-153575707.50213748,-38359173.22936145,41420678.07800344,106592011.0046839,-207666951.1557558,-139060693.7691594,-49114473.00681968,-413121808.5805503,-491668932.10425025,45231905.48538012,47111099.52946766,89944700.63314441,-331265749.20175624,-545181246.1036245,372992707.46564853,613146625.0221273,362203111.3512357,-2879310926.9780235,-353032315.7623734,-73532491.09123348,-27347748.84523628,-78492430.95047046,-5756211.842351313,111651678.1486639,-131716720.15310818,-48525095.84148585,221439210.74847135,-23425966.614684626,-70100460.9634657,594084558.5125049,64369718.80182106,634580777.7528088,-29452767.838853627,7382846.810640911,-549737468.6185254,58627803.3722658,-153503619.81138307,-419460848.94929945,-319399169.51221025,-16182124.869531283,229545839.5949325,-247491136.0616117,220891836.25531673,-109256233.8774046,-228204136.01339826,-258200597.75300542,18271339.77913982,341262489.33881944,166255889.23144957,-116270988.18853252,-75691609.95005175,-46117226.07202966,648453693.8102494,-228434824.0385342,620049266.3216819,-687346033.3648094,-413989517.4169738,83855040.78608616,-51252581.53497164,17053124.177354675,-47875658.28507945,2400203437.580879,-35913253.09892065,82201025.14260878,-209438413.50971082,320754355.5589274,214506485.4837271,9081507.548628021,799446649.7590575,-387080100.6762692,142220636.29907188,-92764177.02509594,12177134.99987414,412803949.74123985,32890884.328344453,140113730.5287469,1486919137.6725268,352757217.3595223,217059716.9808398,-1204842491.168029,-162157275.79220265,-81225422.30388163,-283160586.84550136,268295129.31429124,-437730223.95966,17607264.21932636,81234808.87088177,-6141551.442987012,572789616.3439268,55862037.48125395,1416875190.9493,-101202536.67290998,-216029288.88721326,-373313624.91236436,-166378156.68434328,-139590973.9734942,-259846048.54582107,-271491947.97237396,-169690998.99189615,-173366987.22799405,200839952.84393293,-361227665.54769504,-257570683.44463867,-634250503.004036,848668460.3736483,153065240.61320338,27508722.53803267,-7346066.214201667,44424655.78215091,-37828405.54629474,-28587342.00494631,-558296446.2093843,1820710213.4482405,-221134432.16822588,110631787.33488998,-53947526.87956672,948416864.4129059,337184450.6366258,108364510.59139343,-80784336.21264245,187463193.22380185,-41295723.69613452,-575536563.9704139,120481837.89409126,55409644.56565254,-33943712.76927546,-191059395.71873403,-267501871.80436367,-493199943.09982955,66240740.53988427,-145438578.87829348,137381264.12377176,-53252818.48640866,54204628.9420559,268962025.2432759,-17317345.451734018,2546049291.9739437,12907988.946999153,846456364.3300141,441479356.6007252,-93550677.52894838,-494060474.03934973,-54894184.02099913,110774834.62867692,87216068.57167977,2631482816.388352,138642305.6436199,-403109126.37180334,-75254411.16957581,-143507190.0151644,-274590055.65894204,-355931509.4841549,-23277471.89197295,7444155.753713655,-47501298.88935135,-397569822.8163633,77765358.50553855,-413118389.97591454,-280967313.8357179,-298187408.34918225,-107960057.23795553,-455904977.50671196,-593452766.7843565,265130296.2871585,-393983956.6207946,-172822449.85577038,-158498272.12200567,-592289363.7105172,-39747664.87084911,-60307024.222334586,-503467130.64183134,-493243291.61513907,-141218752.58455214,-50288930.37784099,1022926139.2197636,-607796749.9000496,54067783.92628523,-120841692.07621397,124557562.32548895,-295004525.42296463,-279406761.9013522,-25951566.867386673,-663099780.1925551,-401120266.9119752,-412336497.2150607,-36016407.22313745,-183699718.443467,1508088748.1031003,-256987684.34728295,-341633879.9784217,-179194211.53469175,-38346307.21942487,588016900.5217179,141486191.60663506,-146872970.27204764,-125346608.93571098,287332397.7082789,593258681.7763196,42081190.97343071,-295716578.1496318,11170633.424678937,-19296161.380585607,754268635.4737952,-17432515.198617175,-550721199.2376372,-118534801.06626178,2092864462.742021,-583138649.1560076,-40173966.718563735,-157904369.50705275,341645746.5194907,-487345100.4768412,4624179484.444393,574562975.8006662,242149134.05520648,1618408855.9982831,-144329172.9764636,-59480062.8824869,-102499700.60138926,522911037.7484709,-19341512.272650573,-419209125.9310684,522564207.887146,4079841213.8602242,301708652.91467756,472947326.44927,-153260804.71164826,-107918038.5970333,-16465827.62544637,283856525.1418219,300464526.4372198,-646401714.4595604,646116470.2141674,915428649.3414991,-169496436.2883518,-141714331.8531939,-118408033.52091424,-746122970.7141511,-311776057.9036789,-95829725.06873065,-230641373.57153273,-590295605.4137969,1390860718.8531227,-1143419890.5845773,-152345997.36811224,-774518464.5671208,-21581703.072504185,34979650.68088033,255337699.32143423,1876831316.7988386,-274653818.6941269,696208841.9439383,-620890936.3991684,-324038755.63072217,122589695.68642767,279570370.96563953,-510859631.81023306,-185324847.11185002,1080204734.2590709,227610985.62163404,41726821.12706917,-128302814.10280676,-374242698.04552907,111597531.55975749,-424251703.21489894,-131730756.71989584,-22770904.030838713,-248801660.68369415,63856233.9062109,-413088770.5214138,-237256256.1078231,1082941692.3523676,-394982668.35113484,-54021998.80946535,-654548116.3855143,-533891771.47996885,-87249848.28815565,2238415270.85701,-136182647.21121842,-179527392.335447,-142207902.98199606,127904035.77537555,161600216.2950094,-3921825.069262745,-114811080.31454885,571404233.3557932,8973638927.71915,-336197463.7780257,-575810213.2214282,-185020764.1447589,254613880.8107848,1541091832.6614695,-142237281.9577902,-381603002.7990115,-3623146.5981455767,165546152.27453673,-25285116.757036183,-539688916.5715477,-372971819.69180894,6903773951.756488,-439446893.0103936,2766498547.278122,4890123050.88637,-34216881.37208734,-80703504.1662626,-503413348.94843006,47041681.04992546,-263009859.11089018,-14782072.274631485,113402834.47507429,-348283337.92958975,68089343.23162508,323317080.0699487,-924993058.8966717,4405659.655574076,-66705685.69675607,112840379.99719177,1020189563.056296,-878439647.4869131,-704060913.0770742,960792424.5438465,-265596594.99009213,-176092293.16176972,161780566.83309224,1793544907.2428727,242547998.88135067,111198273.08532956,724228687.3101227,310153253.71834934,-284332036.76963127,214386384.82615927,-925748460.363906,-420999160.56587666,-279841314.9533939,-338364219.02527833,-988943689.0867326,-26796436.33432498,16948932755.991564,-209991102.54870382,827260260.997578,239637933.89799494,6019500993.348494,2345820966.57868,-242543115.26671854,-1204753107.4699202,34275697.11211774,-676181529.2959036,-733326027.1661007,-85839427.29281592,-499441679.0423866,160098135.01917464,537479513.5981367,391861421.42428637,720598425.8536761,168381934.79945302,425746279.2485498,120183468.58301419,116231916.4068559,336266222.1331364,138696243.9404293,-75321162.95274359,-535753033.12482834,224420822.54068017,-3975347.5318133174,-376388496.8494981,125541877.07284346,-617925794.4376574,150351326.1929585,-775767488.3272626,-539747718.0706285,-124869174.98523347,1431977612.312648,23880637.71953499,651660774.2783194,-144856811.21569994,105390246.83743924,-283441365.48837924,-1185356482.0123463,2519925351.8008823,2985329623.9075727,837904762.9640808,230074198.27276447,-315277079.7236488,-233590940.88450268,-351309250.54051757,-228745393.8422114,-410018932.2349989,-1599468184.468954,334238367.57019657,-517024705.3897718,-709985443.0858233,-96386672.32350503,2775795518.7632766,-372391792.88354146,-732384220.1912842,19409908.30098846,-146262402.0116363,-13874630.545740657,1026843484.1420894,-7005126.592070967,-721464670.886745,-523737442.7949578,10776108317.42396,-544631253.4377402,428131636.6859446,0.0,-223699708.78240693,814419617.5244088,-494902946.991571,-498483018.9123156,281318489.3339714,-799096259.5619347,-451775674.61699915,-893191642.8374094,5211886462.9493265,-54659238.78339103,-85480676.18857461,-45585978.317536436,15866419923.21828,0.0,-219740330.83652395,-607115949.4451834,-101539133.1888373,5886239094.947945,-524777842.9592825,521899110.55392003,-309210879.94095474,33708222.48621422,-1681157028.971332,-514883566.3289004,-450904412.3634071,21133143580.394215,0.0,-797202385.739728,0.0,1173553247.2799244,0.0,-1038654381.5340185,8957235076.148216,4672712935.526573,-865817578.8796271,553935387.4432367,0.0,183800162.64268306,1327225484.8537407,1179828992.362504,-62803564.81108212,-206588437.478057,-653484945.5931042,-756923013.7355503,0.0,-229985570.19525197,0.0,-639643566.2958735,0.0,-521750194.8991863,-651093234.0326923,-62195295.97139045,-82708373.00625998,-81941534.88386431,-20073612.332087647,-10358960.948487347,-89813342.66513117,-23768045.118729927,-57996745.77868502,-15876455.530109147,-88891763.92173511,-82042603.51719622,-58564635.41955005,-13057804.99420746,-60595114.83267831,-55202070.73319466,-5354905.390083329,-53952228.89198932,-15566872.67473322,-72641379.97893277,-44629124.87054834,95245333.55294357,-258096126.8168329,-96388939.10847087,-57368507.02479569,-40586558.752485886,-68964279.71616994,-37380413.5205095,174929229.0128467,-50963740.2483709,23386010.59990736,-102498476.94572909,51337589.77785713,-122968810.52948476,46778501.13220103,-106177500.49479403,75351959.2351778,-56860573.50495291,-43986588.52015434,58506978.692907386,51187497.24884222,-151187554.63858694,-31989337.466286488,235072222.69167674,-140472233.04859117,-94359936.91180201,-93407699.1946418,156745122.76320636,59800514.194919415,-90888679.96494831,-73145029.5502669,36077542.88359855,-122719192.80271243,-132607528.79134472,23319024.291421343,9735031.486756265,-84627380.20026217,-15795819.501887402,-63611328.97301786,-113264388.6710223,-805181039.7159477,-87866913.41109978,43923859.02025448,-774714027.4151639,-222000425.89941195,-100811439.83210284,140865715.29458562,-54213778.65970917,-39664650.71915053,-48746844.156451546,-12812224.856504114,-2984329.4425168135,-5486785.353843469,35613355.31650422,216693740.78855297,-134940143.31354228,-110105558.3098056,-88542198.32192086,15738750.845417615,97731427.36437427,88992214.10690814,223668735.32240328,-177768004.29833063,-44616070.387229234,-158697799.40686688,63637523.135498516,-46242586.05161165,-183189359.27728522,418636418.9538861,-97073598.17499566,-19200788.118739944,-34794601.73638328,229531022.73469132,-781371603.1848322,-12607246.797530409,3057660.536226718,-84249305.88204649,92378185.43386383,-86443425.32058994,202332511.34691292,45191096.12436505,72361459.24373268,-80064908.39197363,-4753979.260664945,-89502539.632556,-20844362.93363838,488002950.3621844,38551828.96605473,-30271629.187235937,17819783.806618378,888222948.9148017,23494268.57254534,16909079.53353318,-73615655.86072846,-149006521.63303766,77033276.64234395,39686342.63145105,44667758.71902116,-166825711.01371083,287812924.12894696,-146031332.3041608,24919807.298026647,40760989.30486629,-90740941.81928921,66104525.916052125,358614253.6044791,-45591958.31243915,83774709.50768058,-210201963.20267206,37246367.528809406,181976103.81317523,20893163.87236538,-29157749.14937706,-44417483.43809425,297043550.1768398,-104635615.01703328,-26940313.82781605,-100496864.08583763,209488738.88175339,28453251.38518863,-96300351.77257398,57125191.10261348,100345329.04595242,18655724.085845023,388183942.6643876,36505914.56858613,-76977548.04375681,-6463547.519601097,253171457.8613792,1308677706.8010728,2566139569.317594,491170065.0103897,23487872.066454574,-91788850.43165389,-14917354.301928079,531523825.01375437,85034825.6823543,-103623047.63830926,-95768401.1556956,-8907647.861527067,-77785953.02356626,5663809.443881461,32333415.38406134,101533811.22913997,-12631550.818698682,-96812113.04416716,-49630325.76705494,-186166161.8293255,10233784.143420754,-92132096.12896244,-60675643.35984836,-49385687.6091354,-30878483.556197584,47183215.298783965,-43710264.3335941,169370339.34321612,-31884314.745720316,56513837.11931718,-52493934.42374689,67150357.28046598,24886090.23913008,-77923375.24593754,37604045.92355472,174063145.5401575,259261082.67553473,153041685.50059816,19868678.816163834,-169652126.13964996,50447934.87394693,-32049285.805706546,-147503094.3185267,-42532356.54056065,-247977726.4584803,296088.82132436696,-43265367.54640954,136957057.62514085,606969171.0127484,158571774.08579043,142721253.61028215,-133081865.1597813,-119255222.07284516,786538932.2121342,42648771.6426219,-39614734.8335338,-333646409.602295,-70559172.87624323,583968095.9913292,31876533.184659116,-44838280.11815518,34706680.24842606,57901273.480333745,-120191879.25874823,-106987699.17985177,-59186687.11164028,805632244.4571794,-108549971.41905674,61993003.80822895,37452507.155927405,16160134.243403314,-22856700.931983724,93764735.65163316,308233191.7935435,-801060256.2575598,300316517.8775787,73343147.25508437,340941264.20996284,-58350409.75131437,118737766.0340421,-93556873.35409552,308465480.7547237,45511553.733506605,-116750948.5309166,-5346229.150695412,-80457742.80765213,19486780.001907878,-124962640.67799735,-386063248.6950241,381884269.9936366,248785609.60889816,80670378.99858718,-623686775.7916758,-96617478.7265371,-49211681.7158392,-183918917.85595682,336606075.68101436,992625197.2693527,290155903.72046757,-7427525.1168314135,-399676136.6444095,77752766.85756092,-43651180.63162175,-258334261.8927799,-130997555.27842115,64599527.869637534,596958847.5271579,-237599848.5549968,-70428824.1416743,-11205557.856143618,-54796368.10263694,669308165.7138506,260640136.97006872,222586593.1505254,-137488009.76947847,-10528120.205283554,16291125.063910494,-69187173.92402999,281645841.29088175,263140607.01041603,380191424.4019839,172753954.27212307,-81977303.57604834,168115924.6419076,-328378928.37480587,388802333.74788916,111565062.06205429,127648684.75884083,-124000457.71530835,-27250843.58968227,151622908.09234408,-92276599.33553624,-243223020.37561533,73880624.85636711,32160948.79131522,-157199653.77394095,-41691352.119098775,-276747077.47072226,-15691775.709915573,-72644389.60051748,66871867.158691265,-14795815.470410552,-99956413.39199297,-22519679.87256741,-240049484.7305134,1095858246.9520278,-18508646.00199695,-123452423.85571569,-94459018.94481161,435585483.5172299,-171625326.05360502,107162240.63537091,-78154131.33039236,-127261166.66948621,35153758.684976526,-138494965.55625972,-164869664.65433604,-798207445.9871057,-189070687.8935186,-72164480.64474665,720487709.7064636,92572770.14173985,-80096862.26449154,57570934.62601079,-188264678.697722,-336091465.1122364,-80200255.83154161,198838462.11284283,-156167262.13645175,-98423988.16569114,-12473596.318426715,8502014.95458622,-52721401.917312,354223251.5512386,51700575.53736183,1123013564.7008226,24116542.300117467,-427814745.5782686,261207351.00487563,-73644325.99335976,-177638284.26712096,41387259.32259085,119785121.64362314,-34606346.43666414,-81135448.40005687,90228474.04314032,-239668895.62215537,27240140.65521318,-43666839.49804177,-321214094.4792697,-711403347.7787913,-357979435.57047987,-270175377.7677329,-357562086.7338658,125699555.24793765,-36223167.3573852,524622201.2436278,-149853411.27267277,-28277147.050419744,25370124.775814876,317691982.8537099,-63983926.32835086,86676510.30377857,158232258.9865671,-379568740.80224884,322638300.18923795,-265589428.60579988,2560462371.810905,1685070509.2382407,-298713734.0647769,141591153.31038094,68139071.01467061,205691310.09111476,36203870.192670286,91344730.14688261,-99165272.13180454,-66976830.6023557,-348782055.7602149,-129574805.34793699,-7872371.35152498,33920007.97468754,92584516.17849098,553786676.4891876,-579507670.8525658,-496108873.91312516,-43730743.76991619,-62440311.02787604,-617565940.0572404,-498693315.0110045,371998561.5536746,-260543509.38988763,-3920252.651891779,264438848.7462027,770843520.3478987,-315569132.9091451,-87911567.23175773,43048108.767532855,272226454.82985723,-155746393.55038694,1773252871.832079,1246284135.069291,-5558574.389835098,41285366.33100249,595725011.5227365,111114210.8492656,-264003316.15323922,-295079976.18715644,37873311.89520905,166194721.84591955,-60730637.77202862,114902048.7428974,-100293741.41766514,275338902.4190338,-130166705.27386418,2894360277.8459644,402317124.48067063,-40864966.23979743,157996008.3178226,-37150569.364340454,391462450.2125057,-319141854.48816216,354898925.25930953,275768457.1076117,-204440912.27517542,-113912910.17370811,2002212652.8240058,91340136.90104055,272283242.7725254,-116798332.73138626,-116478316.40132962,-527388874.9236575,164522537.64166573,-283440566.47421485,-71102400.7211863,142191623.96836257,-242026980.9175118,247607472.83282092,-28296499.192152854,-120440233.1428359,366987232.43866366,601198704.6497095,134056254.41176471,-53947526.87956672,-49074519.05019267,-188718378.96190643,-35663769.553092636,242816270.42954397,-432609230.7503654,-103463684.7558631,130006723.86312422,49115338.182977445,115148304.55239846,373277337.1595691,300832205.96978027,781260275.9789547,-84637825.26432636,387401024.24812436,-462473845.83363926,-41433351.85442747,43515130.859754816,6080426.625628639,1221974137.357661,-274685997.97212666,117730048.03488947,-455802729.3946824,-459503706.42825645,-416947430.44636875,-288683421.0616117,-45879115.83310392,66552353.81416746,-19002503.601758182,63720777.88442335,-376967096.54543257,588441490.5941623,123238631.09411088,-1083199719.287193,-375763757.72496957,17624877.84380449,-45809076.434626415,95860674.56605901,102553451.63517492,-25044519.902651988,3118287631.706007,116482697.48042755,888510709.6734824,-709274046.3742484,-88107503.38938975,-8603982.06843392,284688556.86054057,-223356695.97556224,-8927559.738779312,-132408421.57467388,707763606.3667697,-451980360.2483715,106290901.34773402,-154082196.24644223,1056962459.2075547,-90967238.34461336,-729354483.2398702,496366126.99703234,173537780.74105245,2683942.6034667124,104782895.19448243,409361154.8209333,-33317716.51089074,23455035.627774224,-312660385.59891903,100089123.32094604,-77567195.52777627,-198209002.660267,116175772.44824968,-6042877.2660178505,-732302055.272652,711635179.4218216,-230801641.33196262,-20440410.025257904,28406556.716271285,-449488008.0260379,-376222712.5892002,92254753.78824523,59794441.79020418,580887292.6824089,-15870975.151514404,384060.5586580177,-94734460.70346528,145780051.63136536,-312113730.9686321,34885116.95867988,-49338714.42467984,-258492480.92692813,-93613157.08804876,249931113.58612576,39702135.31923795,-123728446.89137794,-244043808.4165504,-346610302.4610842,213957817.26230788,-45586554.43539045,-198798908.66685,-416948605.9978555,-192910141.673927,-720902807.7509304,2924899104.909944,-121094959.15777302,121015194.68633287,175619248.32945284,-115020433.22366305,-292308225.0684681,-219878902.59870702,242941721.9629893,-536636191.1067228,-193823605.5153059,43497807.034835935,286681645.74821246,-37639010.85175877,507538313.32542676,-667002129.2192913,46986415.922662206,-246175128.77680472,-136329294.9924323,-178889402.3079369,32747221.541874062,468213636.4192403,-183610845.01154098,-104176349.26903288,-147571475.51087552,-193775397.70239407,-502386887.08769447,-144324868.80965236,-225436251.78447664,40047087.624984115,-70130941.52155663,1078186.758199188,87474400.58577126,14243531.326707974,-91752369.22008844,-103833733.3392703,-517184009.736951,-408994295.9198403,250830218.94256443,32628655.12870303,-251098080.74094555,-290526522.4287957,-365294608.2605348,29346909.353105363,-259056479.95651612,-111028741.0976035,-457563770.6018211,380583994.7870558,-224057721.97712716,-58276987.579971924,-332698035.71864074,20781058.769028176,-135104968.12825957,115486134.63134776,1173285504.0525873,697015513.9304466,-149061268.83343965,-60185571.548659205,-187382356.2678126,98863594.95944528,-284644338.4996943,-244587345.81957746,-27814445.587371632,152595282.9520305,-18803810.77245991,1125711971.8635018,-365767991.17677826,305930428.5686133,-23946833.736764636,145138472.1010843,-7050166.677921684,198341065.7777987,117559975.22746673,-143384682.50909832,184496504.14895082,9079534.388016438,199893346.7219647,81659130.82991475,-26119645.617701415,-272571799.2869108,-135770110.32283995,5061417.2285997,42576780.11948249,1357562464.014818,550276521.2093306,32323603.294488613,-23223933.10834732,329420755.4152994,259753833.1928703,-80697867.24114381,100449354.0210672,-122234883.43144682,4119711.196216102,-132193310.96113238,669273626.268644,-197020708.05920094,-394912066.23378044,144073777.390457,-298235661.4715456,234348072.41692674,116207594.94656646,-70360162.30513431,395858384.14128554,-162802777.56250077,-466587649.4039161,-14176473.743006848,-39953021.51946385,-353830154.87447375,-49921941.85659839,1476081325.824463,-4817905.675091442,-297156598.4622329,-41482650.55055251,-124717781.42882057,-49909798.40517796,-131076702.80907369,272670234.6850068,-13772840.893823666,76707485.19592471,-29851787.40992613,83014852.23377843,-179078471.992536,1081094754.7934632,-260089588.50681147,-157018419.943989,-55828227.732356995,-105648653.07180724,-955093252.3948514,-126882198.91548738,-65038916.4124994,-40098994.30799686,-359923244.3897163,-315834752.44137144,63309616.22025413,344660177.12008077,-65879883.43290047,-216446798.6310455,-108193477.77659471,112395381.61876139,-30803592.97828647,23233533.596101407,115649872.03629264,-209615852.66661403,-33031930.180773266,119189848.28918561,-16467961.307925502,-259087977.13174766,-299668947.5794222,58823404.37205512,-224390937.79452997,-467799349.8925599,240520440.0286823,-200403401.9833995,35190613.16481021,-143480493.82361516,-245393268.84640992,102891049.90812045,-515198.4659926734,2428669.2429967094,17464966.206700496,-301197731.76234484,355081462.2517784,-82758880.387062,1966086273.2151022,-414187838.30063623,429711543.6774626,-266880203.40360507,-338897265.0304598,4412419.393371953,77379460.37005626,-126316793.83889629,-92949922.33122155,283030281.49353105,-73472247.88696784,218269432.58710212,-420602611.9259638,-392128386.7978926,-183432802.68890363,-79531168.99371043,-139871489.3467112,-300555728.477206,-208716550.18170145,201935539.00919095,-476410220.22707725,172593139.52399504,-60092744.61081432,16618446.28336338,154257245.68930098,894811662.1017066,-80494565.61508171,-232954916.6666393,3097289554.509464,-268956629.71057945,-184917045.78921777,-202136536.84399346,364334553.2630003,54372989.42396586,-55897848.152158275,28722849.414721288,-103908464.79204914,-12832501.903804155,58892027.08732249,326682454.60451967,-136018668.0737354,-48669687.05021127,124211698.36853778,-313946425.01834464,-50536846.793061234,265762996.82848293,-29714707.00375024,-10757962.519464951,-210996747.6726918,-1165391074.5847268,740478571.7130182,240120588.4415439,-21699509.23025814,134445255.53165823,13219877.770514019,-73565814.73802432,160046045.88355678,-78833392.26404418,6432580207.594364,262093665.93778864,3452298.083083676,246407225.15656894,-421951206.50292,117012191.84273091,-152459163.98429376,416442220.00460994,-589250457.2338417,-131183061.44128323,-13949918.160928925,519284871.96808267,1730215990.2490757,-17970849.416453894,-8896227.963158788,114080884.37209183,497877870.88515186,-89505536.9156189,-31031803.458951395,-427225940.8244391,107273728.30019632,-13817913.76778039,219276504.67116144,461240653.21592206,239119020.18564516,-224196719.95713136,49619139.84400559,-146917105.6448936,124528546.02381651,843757289.9863142,124597808.33535403,-340575211.49633485,-138986960.5033438,-71948673.85335584,-268071595.81554493,72022874.5205467,-164091895.78551942,146025577.15627018,-216563769.7012545,-681081704.6847454,135227076.17870474,-170441076.82354966,334050780.3100151,-24176501.652879875,-115592961.50992306,243749466.65331936,-346261009.51625776,-393572101.9018334,-141618408.29077363,257388162.7512105,1541482991.8943844,-25534462.211414687,-266242817.21456358,3831418.8122212496,-610563005.8227944,-201371586.60631078,1162245020.1099806,-675462003.8260915,203050090.3260965,284322198.7218745,-261218510.04299444,-64701083.71094237,-451031969.7290224,-54021998.80946535,173780874.8265067,-5666078.815188417,18428969.181420244,-78502621.91399622,-138904715.9450587,98220820.55018172,20527226.96344326,-85039401.17778616,1285847508.6932917,47714423.79720939,124911101.32950418,-193661903.96681976,2880165409.415286,-367221322.51951486,100105008.097673,-11318380.20811649,-57190743.8153551,-2199506230.8398776,141366958.5388843,-192232322.8405369,522222497.9876858,231334388.86545053,-73670998.3142368,-264771618.89915013,141727462.15212312,-757242252.9424073,-134586976.15098754,-624822325.2657975,-1558769.1972619526,-250057925.63921484,-110941070.40948676,-120227118.9165926,-8237495.161733327,-142430382.7957811,236439576.03603274,-128342785.20758611,-352933235.1798698,-533206420.7602835,-572682200.9948151,-22602711.227866665,613545710.5276732,-163826074.88574663,36793497.4758151,73855003.45458755,-150500570.9069063,-90169421.36090817,520839258.27761006,-118274263.43551639,-159114284.08144212,-109537.85116071731,780748749.2577779,170633577.00049847,241242188.50104848,-274482775.5369743,-141166294.72124067,-307547969.86370367,-46425176.87514696,-301620467.01822746,-77171925.73389278,3435260.750108755,-270568740.54647875,-673969119.0658118,216238604.31367272,343354283.2022721,-107837389.46430004,-474626668.01705086,649605229.2422829,-1820132.1500894718,549893638.1820291,187922206.33322975,335945481.06880975,-733813892.0491507,-318084551.46275103,-193070240.61566296,-153551441.25165975,-537715992.0104606,-560319959.4818071,-11293613.879173754,-519208673.1980233,284354555.9456981,-130446956.88780122,2116817815.3011396,356641765.8621978,-136120429.804321,64713133.15009502,-72818005.06834666,140200985.63221535,-1322727865.8339481,96380360.28631388,10095071.80003139,-56330072.45161263,-76477613.50086637,948208061.6655335,-153836457.99577418,2040537932.3880768,-98452595.10774346,-428624595.389165,66861063.81478182,-217836985.07487088,-148367184.1517932,-453787806.4509686,-814030333.0597577,185255883.0576003,88283145.25334802,87512357.59989522,-25628711.80118247,816622441.3783089,346497087.5173564,17825120.502625473,59574790.594986476,-349821312.1970823,-235765601.06669676,-993059763.8742845,-189453734.98828512,-128166727.47131358,-576474542.8620005,2534023093.0387626,888899205.949344,-38707589.69004681,-772333443.5255687,51731434.18287079,149734389.99539974,-162057417.83158103,-158111206.6220228,-268156752.65986574,885113344.9655666,85332224.94375175,38026720.223128915,-871375309.1011238,128906391.99013335,-615057233.3316668,-160033215.14405102,-295721739.5076323,-813695317.5421762,-153516070.90978056,-501749891.77043796,-371470432.1728713,352823709.1343595,-234725458.3879867,-288273243.9572805,-842773016.1896584,87818754.0476545,-108202028.26170562,197257528.83788624,398291701.1262569,12017390.71357856,-153150505.4067624,952956985.6771103,-277319893.9661889,-439193789.66711456,729955152.5106472,-68920496.96604607,-25113232.04229253,1753677816.8543112,769013.5857722432,-117423742.24064623,-139767015.5270476,-58243695.99205104,354623169.3094813,-41518175.432739064,-234837920.70515507,81954193.11396323,381622006.23486435,-285364339.1774622,-596765286.8632885,-476185681.04583937,155911578.51315573,-30919294.905036904,2883771782.1246076,5018606998.572452,-156847105.64460927,-104936616.9710075,-602337321.0014675,486413289.4912856,199155969.24851447,-749034102.6397977,-159879687.30562252,-64927879.47261079,-251459598.34315014,957881274.3514203,-360408450.3514232,-686778806.7749536,-178534033.00473246,534098437.71514773,-257350065.80314702,27881973.590910643,-593035943.8009515,-166501774.72097275,110911751.44227411,307191547.2434734,-31465934.877869654,-111180354.25945517,44521492.85296647,100038190.68308742,296590967.3798951,-29536494.53265416,-615242269.2832626,-305769840.05998623,116032622.20133388,82631746.29894613,182161677.8021157,1430392670.877468,-254161433.18327397,320965231.8049618,715544138.2944523,611523452.9457128,-221618251.39141744,40257014.97860401,-52886878.8277766,-267057714.80607912,-558198140.1928326,109287840.84193018,-282494105.76851904,138419467.8177217,164318985.68747306,416982820.8333111,243274595.1996849,-58580068.44345474,-173350615.2515656,465677664.5506202,520331144.6713741,46508870.68124981,-68669731.01007016,-69516285.76534277,-8606326.301952241,457029159.6068199,-137712262.2011575,-641653570.9701241,267132872.53195995,8068707.987717279,-253755353.26346114,122249505.72687803,235675118.8009929,-38138930.19188218,406880461.5045705,214386384.82615927,-155316983.39571756,-422464062.1229335,-335084213.01368755,-251266977.1687346,-422948723.23789793,-73733504.72261916,-898504851.4188914,136131319.19193748,-13127731.456135098,-121092377.9330904,177629100.72846195,232121028.36533272,335485561.5858615,-629905617.3193643,76567290.26288968,-625504663.3365763,57167119.25356716,-161971412.8600976,1854473895.3668315,70186634.76878051,52092509.46553392,95201279.64610869,-315604339.8872565,-204394601.2453372,107319873.08066918,-588779621.188528,36377841.854429945,-54364115.52679275,-1114769305.1762142,87500679.2317504,-44545144.46192709,-302134351.17101395,392483161.21146905,-89666736.16154693,-499205381.0529476,-882071093.493182,-823958183.7615539,-229025962.1148239,-154922843.94126925,-144011411.10959536,-867921075.1377535,-286914791.8119803,-160750144.94619486,5990561269.788661,-39667892.37888539,682410.56887651,2484542992.2723413,-834689964.8543022,-843593890.1175113,280208994.0682259,-1111117841.2164705,22106728.379733957,-1131719298.0936747,-33027262.74618488,124797888.04240696,-663128639.0545774,-496189646.07718945,-242543115.26671854,-50382138.109349854,-31114203.799370237,-505556414.04116046,-110200124.62342042,-355569438.954618,-255924256.546447,2056367179.0423331,-477597186.6863782,24663232.351592407,227732211.74514207,2459731876.420281,-229753416.67065042,-48991653.010689445,175146792.07408437,-139256074.2301354,362817229.8260928,-428354986.98864865,-66566930.77061758,-78530466.92681691,314447649.27137923,509469976.56055975,161117827.61609027,419652598.43426067,529563916.71588475,-1019993643.909044,-525305699.2513245,694793330.7243279,-354520336.25638014,-525893699.7535359,-551669997.7236805,215552340.4691412,35031433.09882949,294926265.5218135,-236167040.49916166,-147860197.36116812,-28023899.18932599,-784229498.3146085,481009584.6268186,-628079519.751078,-675087657.5411985,-2189341766.3400483,-84092201.6008928,33592054.392220534,-79949823.83358876,-687465265.5230407,-98650406.64106047,-359698538.73303413,-105630960.43867058,3055982814.2990623,-843187555.6666108,655862453.4416997,-404389744.9335975,-587602560.660179,-507376800.95073956,-199580458.37020117,-662476051.6216544,-77651750.25379929,97591916.68639484,283104557.7008,-139738641.12627143,-117046198.2997718,-486803500.25259453,12443521.67873007,-453186000.2448304,71695379.38885032,69151762.21389912,140408264.07372218,8671706359.02959,-30644583.925073322,-97329253.64530496,133300304.70710061,-92087590.4270393,-179581689.62647796,-1260818853.146415,-692136067.4588152,-204277745.25298437,366444419.0718723,53678615.20787801,-194200019.4065467,391861421.42428637,-777171536.4512516,2914849430.5289946,-462090788.2730285,-80278529.60128091,-666250.1717102517,-164479940.35786685,66841633.408375464,85582900.29086411,32399625.44405347,2853525973.859576,-19261091.527909428,-289312892.4516055,-314743139.27247787,-457348308.5480428,-57348879.278845884,-494373873.5236246,183004424.77486432,-425513576.64234203,-897936215.4437912,-533196577.48070323,1381770179.4697022,-223081400.14447838,-71091007.74474677,-167837577.54898944,-912527237.7770466,-76653214.27678315,-222264111.39649493,120602465.39442916,-31754266.532005083,85333003.69388512,-92314399.2752651,-92445259.65689316,-117928384.90272634,-25163269.49845116,-447287683.4401884,-209159505.90442383,80126831.68400136,-206574847.41869432,425611790.0822248,421564500.01897293,170053583.72067633,-58352316.50592492,-317630651.06192595,793360720.8877889,-180598969.8497901,2424771581.52145,-170702650.70119277,1047675393.0478821,-36149673.69790616,-27133663.630775414,-315988589.1750152,-135968349.64621586,-979002912.4200047,-322190033.3008773,-36875853.05270724,73839917.94901733,-835701332.8602822,-2113190771.5350697,25334061.18815513,18004705.518354084,-110594216.9063972,-1010153005.9113102,-113625609.45303167,125584213.2733718,-76206323.46764477,-711338949.6704389,-1204208414.8348346,2805589974.881752,116122893.03314003,3784539895.2642374,-82568222.29477094,3900480589.454414,9055700.812957717,-44775570.279123865,-296812889.61456406,-580105781.7250917,252839761.62093627,-257505590.32830316,-295975822.4093906,-47599062.552825056,-193349897.59975755,-1122414506.7613568,403104987.32910174,-125966269.29550973,721891554.6581624,-781456919.1017712,271739869.4853393,-158638519.44402286,-653053158.2106354,19761519.67182901,2627655128.2510953,697736296.0877998,208699033.70714483,2985329623.9075727,-203871266.78783742,-1189063002.3434248,-66162071.27489179,199459736.68643117,-143206411.28057432,629924438.7657211,160738574.04149315,-731035969.607029,-378772687.8459916,334238367.57019657,-67851143.61877532,-161454591.10624945,-227031936.29685685,-439225554.32241976,-517024705.3897718,-119740085.87482038,-659960466.3880688,3189838.990160386,-258781690.13586715,227368246.2888977,-2443316563.066156,1156076089.0335875,-1163606417.2314062,-776291789.9800538,174041814.8894795,-16737985.405411113,257967586.9009032,-273513355.30765766,-1417736995.0446603,-555374806.8752629,-280083194.3113085,-262804782.50103807,-521655178.34290916,-483496997.65408677,-342397860.99494225,-51132861.92250933,-892878811.3394483,-208023026.4554919,-32587176.39205998,485217425.3594397,236543983.809002,516500871.4330881,-245232669.74136552,0.0,-86417161.05416866,-343749294.40528613,-37040637.32346338,-577621975.3740767,5238517.416233852,-300902991.53338635,-1731785561.0043879,-251140451.41801202,-335997776.81775874,102871874.93843615,-194646806.31733078,-7982352.742395999,-207581378.90576863,-55097244.55624637,130583391.70186786,131935878.31844184,-716645817.8344218,-96858971.30370256,103231394.7011414,531751180.88311005,-482696970.9588527,2229705313.405725,-372391792.88354146,632780336.2345403,185321810.47244662,-477768249.73967046,-15008520.114582587,-685044289.8617063,-144856811.21569994,0.0,-506146821.2077414,-781008416.1837482,-300350247.75509703,-142650560.85520348,900261.4382487941,270342728.67598647,-157918695.74980268,-249172644.64850688,0.0,-583813929.9042326,-157867935.81646454,-361199782.2269839,-257918536.29125026,-71593163.27847274,-266263744.9570715,-236776064.11213583,-317165266.990924,287026516.36070967,-215959443.25280824,-934081562.4390122,0.0,0.0,10830724956.21081,0.0,0.0,60964982.798071876,-54659238.78339103,154654481.6260485,-1450510939.4653876,-530598577.56481284,0.0,-290428848.58908397,-2935275101.7521124,0.0,-934926802.6804591,-361878152.4304473,202537982.19390363,-423770423.2723427,-351309250.54051757,-791253916.4801742,-18764338.823684387,-1451317771.3347166,-856617018.8793426,-498483018.9123156,-649916268.150168,68253798.73472378,-225156976.2790771,599319292.5159773,-745335871.397672,16508873.038456328,-500061403.11658514,-262446791.6911743,-221344932.95435876,247013244.5325738,0.0,-613039146.6976781,-81134276.48817527,-73327272.59410624,-18102710.44586218,808289768.2413521,0.0,-165617946.06021884,198942202.75739428,499185746.25664866,671387883.5197926,0.0,-966795028.4819312,0.0,-59230251.72265661,0.0,-177995197.5215762,-194677095.88797235,-773946327.1097907,-214441271.8547924,0.0,-177012042.1168479,-207333007.87397313,-42846828.58992889,841747.2824725626,203125782.17287958,0.0,179442894.18092322,-457756527.8664147,55831000.26530095,179485082.2509792,-92300519.25696386,-350140218.33296084,0.0,-871590646.4485459,429580088.5844257,0.0,-558788096.1686875,-79994342.10805061,-851070386.66305,0.0,286450344.8655605,198876077.68070874,177892353.52667928,992903416.7180537,-514883566.3289004,-450904412.3634071,529816821.58254564,3037189050.9035735,66622588.28049191,0.0,10931813.31639316,-918775881.218039,-49933016.743615255,-206588437.478057,226019161.44818097,668039795.5975829,0.0,0.0,-321570500.3228838,0.0,0.0,-206077781.60459813,-755674986.0593418,3932296008.970055,-84167397.90065537,-179236687.56485927,-601535591.7211279,0.0,-176203257.70807233,-520568804.27334994,0.0,0.0,-815692625.9153891,610908418.0779467,-422986196.19440746,-593522294.2449538,-177538345.06789672,0.0,-106496131.25142035,-654572644.0320023,2125121111.3175538,58399755.08940696,589340851.673321,-416665820.20570385,0.0,0.0,-309102279.23686874,-1105799005.8871248,552689384.4033521,-976700922.7061629,0.0,-229985570.19525197,-129043545.81204301,0.0,63443602.26116801,-107434970.47133408,0.0,0.0,0.0,-375871649.74909526,-686064732.0322047,0.0,1913055191.7438395,-1452242605.3712316,0.0,-521750194.8991863,37776101.40262061,-360522023.60902745,-805987293.0708944,0.0,54664915.166473895,1179828992.362504,-486966011.82451814,2303686261.567095,-522694201.6023283,-190539677.25366193,-122617863.89120276,0.0,-90876387.54774274,-6123650.011055827,-107529042.86804624,-43186318.87402404,-89604619.72106728,-68978872.11201024,-25067950.36167252,-29422341.370950572,24898953.020572275,26450463.175708164,-18959.91716458311,26103.502201216867,-69524.39954839613]\n",
            "2369\n",
            "\n",
            "\n",
            "Intercept:26399.99001247488\n"
          ]
        }
      ]
    },
    {
      "cell_type": "code",
      "source": [
        ""
      ],
      "metadata": {
        "id": "ISkuw3g6kDjm"
      },
      "execution_count": null,
      "outputs": []
    },
    {
      "cell_type": "code",
      "source": [
        ""
      ],
      "metadata": {
        "id": "LQC38X7gkDQ6"
      },
      "execution_count": null,
      "outputs": []
    }
  ]
}