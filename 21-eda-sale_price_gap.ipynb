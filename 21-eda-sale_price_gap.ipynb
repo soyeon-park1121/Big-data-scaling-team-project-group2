{
  "nbformat": 4,
  "nbformat_minor": 0,
  "metadata": {
    "colab": {
      "name": "02-EDA_Q3.ipynb",
      "provenance": [],
      "collapsed_sections": []
    },
    "kernelspec": {
      "name": "python3",
      "display_name": "Python 3"
    },
    "language_info": {
      "name": "python"
    }
  },
  "cells": [
    {
      "cell_type": "code",
      "execution_count": null,
      "metadata": {
        "id": "2jP3Dugwgu8E"
      },
      "outputs": [],
      "source": [
        "!pip install pyspark \n",
        "!pip install -U -q PyDrive\n",
        "!apt install openjdk-8-jdk-headless -qq\n",
        "import os\n",
        "os.environ[\"JAVA_HOME\"] = \"/usr/lib/jvm/java-8-openjdk-amd64\""
      ]
    },
    {
      "cell_type": "code",
      "source": [
        "from google.colab import drive\n",
        "drive.mount('/content/drive')"
      ],
      "metadata": {
        "colab": {
          "base_uri": "https://localhost:8080/"
        },
        "id": "lEkuAqbpgw1U",
        "outputId": "1e5c8baa-dd60-49ca-87e8-9c015d9344a1"
      },
      "execution_count": null,
      "outputs": [
        {
          "output_type": "stream",
          "name": "stdout",
          "text": [
            "Mounted at /content/drive\n"
          ]
        }
      ]
    },
    {
      "cell_type": "code",
      "source": [
        "import os\n",
        "cur_path = \"/content/drive/MyDrive/Colab Notebooks/5460/project/\"\n",
        "os.chdir(cur_path)\n",
        "!pwd"
      ],
      "metadata": {
        "colab": {
          "base_uri": "https://localhost:8080/"
        },
        "id": "f0q5tIKWg2SJ",
        "outputId": "bfe7ddd7-ce3b-4f33-a687-0660704074ba"
      },
      "execution_count": null,
      "outputs": [
        {
          "output_type": "stream",
          "name": "stdout",
          "text": [
            "/content/drive/MyDrive/Colab Notebooks/5460/project\n"
          ]
        }
      ]
    },
    {
      "cell_type": "code",
      "source": [
        "# The entry point to programming Spark with the DataFrame API.\n",
        "from pyspark.sql import SparkSession"
      ],
      "metadata": {
        "id": "V3I63Q-9g2VQ"
      },
      "execution_count": null,
      "outputs": []
    },
    {
      "cell_type": "code",
      "source": [
        "# May take a little while on a local computer\n",
        "spark = SparkSession.builder.master(\"local[4]\").appName(\"DataFrame\").getOrCreate()"
      ],
      "metadata": {
        "id": "Y0Wm4yJog2Xq"
      },
      "execution_count": null,
      "outputs": []
    },
    {
      "cell_type": "code",
      "source": [
        "df2 = spark.read.csv(cur_path + 'cleaned_data.csv',inferSchema=True,header=True)"
      ],
      "metadata": {
        "id": "NXKU2JiTixQx"
      },
      "execution_count": null,
      "outputs": []
    },
    {
      "cell_type": "code",
      "source": [
        "df2 = df2.drop('_c0')"
      ],
      "metadata": {
        "id": "oZ8eYQZNixVj"
      },
      "execution_count": null,
      "outputs": []
    },
    {
      "cell_type": "code",
      "source": [
        "df2.show(10)"
      ],
      "metadata": {
        "colab": {
          "base_uri": "https://localhost:8080/"
        },
        "id": "r0Oa4dJujUC9",
        "outputId": "152d44a2-2047-4a32-99bc-b4ca47411b87"
      },
      "execution_count": null,
      "outputs": [
        {
          "output_type": "stream",
          "name": "stdout",
          "text": [
            "+----+---------+-------------------+--------------------+-----------+------------+-----+---------+--------+-----+--------+--------------------+-----+------------+--------+----------+\n",
            "|year|     make|              model|                trim|       body|transmission|state|condition|odometer|color|interior|              seller|  mmr|sellingprice|saledate|madeRegion|\n",
            "+----+---------+-------------------+--------------------+-----------+------------+-----+---------+--------+-----+--------+--------------------+-----+------------+--------+----------+\n",
            "|2015|      Kia|            Sorento|                  LX|        suv|   automatic|   ca|      5.0| 16639.0|white|   black|kia motors americ...|20500|       21500|    2014|        5x|\n",
            "|2015|      Kia|            Sorento|                  LX|        suv|   automatic|   ca|      5.0|  9393.0|white|   beige|kia motors americ...|20800|       21500|    2014|        5x|\n",
            "|2014|      BMW|           3 Series|          328i SULEV|      sedan|   automatic|   ca|      4.5|  1331.0| gray|   black|financial service...|31900|       30000|    2015|        wb|\n",
            "|2015|    Volvo|                S60|                  T5|      sedan|   automatic|   ca|      4.1| 14282.0|white|   black|volvo na rep/worl...|27500|       27750|    2015|        yv|\n",
            "|2014|      BMW|6 Series Gran Coupe|                650i|      sedan|   automatic|   ca|      4.3|  2641.0| gray|   black|financial service...|66000|       67000|    2014|        wb|\n",
            "|2015|   Nissan|             Altima|               2.5 S|      sedan|   automatic|   ca|      1.0|  5554.0| gray|   black|enterprise vehicl...|15350|       10900|    2014|        1n|\n",
            "|2014|      BMW|                 M5|                Base|      sedan|   automatic|   ca|      3.4| 14943.0|black|   black|the hertz corpora...|69000|       65000|    2014|        wb|\n",
            "|2014|Chevrolet|              Cruze|                 1LT|      sedan|   automatic|   ca|      2.0| 28617.0|black|   black|enterprise vehicl...|11900|        9800|    2014|        1g|\n",
            "|2014|     Audi|                 A4|2.0T Premium Plus...|      sedan|   automatic|   ca|      4.2|  9557.0|white|   black|  audi mission viejo|32100|       32250|    2014|        wa|\n",
            "|2014|Chevrolet|             Camaro|                  LT|convertible|   automatic|   ca|      3.0|  4809.0|  red|   black|  d/m auto sales inc|26300|       17500|    2015|        2g|\n",
            "+----+---------+-------------------+--------------------+-----------+------------+-----+---------+--------+-----+--------+--------------------+-----+------------+--------+----------+\n",
            "only showing top 10 rows\n",
            "\n"
          ]
        }
      ]
    },
    {
      "cell_type": "code",
      "source": [
        "df2.printSchema()"
      ],
      "metadata": {
        "colab": {
          "base_uri": "https://localhost:8080/"
        },
        "id": "I_9WY0G_jKKQ",
        "outputId": "ea49b338-e90b-47e4-ef60-a0ba42606e9d"
      },
      "execution_count": null,
      "outputs": [
        {
          "output_type": "stream",
          "name": "stdout",
          "text": [
            "root\n",
            " |-- year: integer (nullable = true)\n",
            " |-- make: string (nullable = true)\n",
            " |-- model: string (nullable = true)\n",
            " |-- trim: string (nullable = true)\n",
            " |-- body: string (nullable = true)\n",
            " |-- transmission: string (nullable = true)\n",
            " |-- state: string (nullable = true)\n",
            " |-- condition: double (nullable = true)\n",
            " |-- odometer: double (nullable = true)\n",
            " |-- color: string (nullable = true)\n",
            " |-- interior: string (nullable = true)\n",
            " |-- seller: string (nullable = true)\n",
            " |-- mmr: integer (nullable = true)\n",
            " |-- sellingprice: integer (nullable = true)\n",
            " |-- saledate: integer (nullable = true)\n",
            " |-- madeRegion: string (nullable = true)\n",
            "\n"
          ]
        }
      ]
    },
    {
      "cell_type": "code",
      "source": [
        "import pandas as pd\n",
        "df2_python = pd.read_csv('/content/drive/MyDrive/Colab Notebooks/5460/project/cleaned_data.csv',usecols=lambda x: x != ' ', on_bad_lines='skip')"
      ],
      "metadata": {
        "id": "NjkG1-1Dg2mr"
      },
      "execution_count": null,
      "outputs": []
    },
    {
      "cell_type": "code",
      "source": [
        "df2_python = df2_python.drop(['Unnamed: 0'], 1)\n",
        "df2_python.head()"
      ],
      "metadata": {
        "colab": {
          "base_uri": "https://localhost:8080/",
          "height": 242
        },
        "id": "EMB5vHi6g2p1",
        "outputId": "575aeea0-5516-46f5-b55f-0e3e841f334a"
      },
      "execution_count": null,
      "outputs": [
        {
          "output_type": "stream",
          "name": "stderr",
          "text": [
            "/usr/local/lib/python3.7/dist-packages/ipykernel_launcher.py:1: FutureWarning: In a future version of pandas all arguments of DataFrame.drop except for the argument 'labels' will be keyword-only\n",
            "  \"\"\"Entry point for launching an IPython kernel.\n"
          ]
        },
        {
          "output_type": "execute_result",
          "data": {
            "text/plain": [
              "   year   make                model        trim   body transmission state  \\\n",
              "0  2015    Kia              Sorento          LX    suv    automatic    ca   \n",
              "1  2015    Kia              Sorento          LX    suv    automatic    ca   \n",
              "2  2014    BMW             3 Series  328i SULEV  sedan    automatic    ca   \n",
              "3  2015  Volvo                  S60          T5  sedan    automatic    ca   \n",
              "4  2014    BMW  6 Series Gran Coupe        650i  sedan    automatic    ca   \n",
              "\n",
              "   condition  odometer  color interior  \\\n",
              "0        5.0   16639.0  white    black   \n",
              "1        5.0    9393.0  white    beige   \n",
              "2        4.5    1331.0   gray    black   \n",
              "3        4.1   14282.0  white    black   \n",
              "4        4.3    2641.0   gray    black   \n",
              "\n",
              "                                   seller    mmr  sellingprice  saledate  \\\n",
              "0                 kia motors america, inc  20500         21500      2014   \n",
              "1                 kia motors america, inc  20800         21500      2014   \n",
              "2  financial services remarketing (lease)  31900         30000      2015   \n",
              "3                 volvo na rep/world omni  27500         27750      2015   \n",
              "4  financial services remarketing (lease)  66000         67000      2014   \n",
              "\n",
              "  madeRegion  \n",
              "0         5x  \n",
              "1         5x  \n",
              "2         wb  \n",
              "3         yv  \n",
              "4         wb  "
            ],
            "text/html": [
              "\n",
              "  <div id=\"df-8c762abf-36ef-420f-95b5-49188d89599b\">\n",
              "    <div class=\"colab-df-container\">\n",
              "      <div>\n",
              "<style scoped>\n",
              "    .dataframe tbody tr th:only-of-type {\n",
              "        vertical-align: middle;\n",
              "    }\n",
              "\n",
              "    .dataframe tbody tr th {\n",
              "        vertical-align: top;\n",
              "    }\n",
              "\n",
              "    .dataframe thead th {\n",
              "        text-align: right;\n",
              "    }\n",
              "</style>\n",
              "<table border=\"1\" class=\"dataframe\">\n",
              "  <thead>\n",
              "    <tr style=\"text-align: right;\">\n",
              "      <th></th>\n",
              "      <th>year</th>\n",
              "      <th>make</th>\n",
              "      <th>model</th>\n",
              "      <th>trim</th>\n",
              "      <th>body</th>\n",
              "      <th>transmission</th>\n",
              "      <th>state</th>\n",
              "      <th>condition</th>\n",
              "      <th>odometer</th>\n",
              "      <th>color</th>\n",
              "      <th>interior</th>\n",
              "      <th>seller</th>\n",
              "      <th>mmr</th>\n",
              "      <th>sellingprice</th>\n",
              "      <th>saledate</th>\n",
              "      <th>madeRegion</th>\n",
              "    </tr>\n",
              "  </thead>\n",
              "  <tbody>\n",
              "    <tr>\n",
              "      <th>0</th>\n",
              "      <td>2015</td>\n",
              "      <td>Kia</td>\n",
              "      <td>Sorento</td>\n",
              "      <td>LX</td>\n",
              "      <td>suv</td>\n",
              "      <td>automatic</td>\n",
              "      <td>ca</td>\n",
              "      <td>5.0</td>\n",
              "      <td>16639.0</td>\n",
              "      <td>white</td>\n",
              "      <td>black</td>\n",
              "      <td>kia motors america, inc</td>\n",
              "      <td>20500</td>\n",
              "      <td>21500</td>\n",
              "      <td>2014</td>\n",
              "      <td>5x</td>\n",
              "    </tr>\n",
              "    <tr>\n",
              "      <th>1</th>\n",
              "      <td>2015</td>\n",
              "      <td>Kia</td>\n",
              "      <td>Sorento</td>\n",
              "      <td>LX</td>\n",
              "      <td>suv</td>\n",
              "      <td>automatic</td>\n",
              "      <td>ca</td>\n",
              "      <td>5.0</td>\n",
              "      <td>9393.0</td>\n",
              "      <td>white</td>\n",
              "      <td>beige</td>\n",
              "      <td>kia motors america, inc</td>\n",
              "      <td>20800</td>\n",
              "      <td>21500</td>\n",
              "      <td>2014</td>\n",
              "      <td>5x</td>\n",
              "    </tr>\n",
              "    <tr>\n",
              "      <th>2</th>\n",
              "      <td>2014</td>\n",
              "      <td>BMW</td>\n",
              "      <td>3 Series</td>\n",
              "      <td>328i SULEV</td>\n",
              "      <td>sedan</td>\n",
              "      <td>automatic</td>\n",
              "      <td>ca</td>\n",
              "      <td>4.5</td>\n",
              "      <td>1331.0</td>\n",
              "      <td>gray</td>\n",
              "      <td>black</td>\n",
              "      <td>financial services remarketing (lease)</td>\n",
              "      <td>31900</td>\n",
              "      <td>30000</td>\n",
              "      <td>2015</td>\n",
              "      <td>wb</td>\n",
              "    </tr>\n",
              "    <tr>\n",
              "      <th>3</th>\n",
              "      <td>2015</td>\n",
              "      <td>Volvo</td>\n",
              "      <td>S60</td>\n",
              "      <td>T5</td>\n",
              "      <td>sedan</td>\n",
              "      <td>automatic</td>\n",
              "      <td>ca</td>\n",
              "      <td>4.1</td>\n",
              "      <td>14282.0</td>\n",
              "      <td>white</td>\n",
              "      <td>black</td>\n",
              "      <td>volvo na rep/world omni</td>\n",
              "      <td>27500</td>\n",
              "      <td>27750</td>\n",
              "      <td>2015</td>\n",
              "      <td>yv</td>\n",
              "    </tr>\n",
              "    <tr>\n",
              "      <th>4</th>\n",
              "      <td>2014</td>\n",
              "      <td>BMW</td>\n",
              "      <td>6 Series Gran Coupe</td>\n",
              "      <td>650i</td>\n",
              "      <td>sedan</td>\n",
              "      <td>automatic</td>\n",
              "      <td>ca</td>\n",
              "      <td>4.3</td>\n",
              "      <td>2641.0</td>\n",
              "      <td>gray</td>\n",
              "      <td>black</td>\n",
              "      <td>financial services remarketing (lease)</td>\n",
              "      <td>66000</td>\n",
              "      <td>67000</td>\n",
              "      <td>2014</td>\n",
              "      <td>wb</td>\n",
              "    </tr>\n",
              "  </tbody>\n",
              "</table>\n",
              "</div>\n",
              "      <button class=\"colab-df-convert\" onclick=\"convertToInteractive('df-8c762abf-36ef-420f-95b5-49188d89599b')\"\n",
              "              title=\"Convert this dataframe to an interactive table.\"\n",
              "              style=\"display:none;\">\n",
              "        \n",
              "  <svg xmlns=\"http://www.w3.org/2000/svg\" height=\"24px\"viewBox=\"0 0 24 24\"\n",
              "       width=\"24px\">\n",
              "    <path d=\"M0 0h24v24H0V0z\" fill=\"none\"/>\n",
              "    <path d=\"M18.56 5.44l.94 2.06.94-2.06 2.06-.94-2.06-.94-.94-2.06-.94 2.06-2.06.94zm-11 1L8.5 8.5l.94-2.06 2.06-.94-2.06-.94L8.5 2.5l-.94 2.06-2.06.94zm10 10l.94 2.06.94-2.06 2.06-.94-2.06-.94-.94-2.06-.94 2.06-2.06.94z\"/><path d=\"M17.41 7.96l-1.37-1.37c-.4-.4-.92-.59-1.43-.59-.52 0-1.04.2-1.43.59L10.3 9.45l-7.72 7.72c-.78.78-.78 2.05 0 2.83L4 21.41c.39.39.9.59 1.41.59.51 0 1.02-.2 1.41-.59l7.78-7.78 2.81-2.81c.8-.78.8-2.07 0-2.86zM5.41 20L4 18.59l7.72-7.72 1.47 1.35L5.41 20z\"/>\n",
              "  </svg>\n",
              "      </button>\n",
              "      \n",
              "  <style>\n",
              "    .colab-df-container {\n",
              "      display:flex;\n",
              "      flex-wrap:wrap;\n",
              "      gap: 12px;\n",
              "    }\n",
              "\n",
              "    .colab-df-convert {\n",
              "      background-color: #E8F0FE;\n",
              "      border: none;\n",
              "      border-radius: 50%;\n",
              "      cursor: pointer;\n",
              "      display: none;\n",
              "      fill: #1967D2;\n",
              "      height: 32px;\n",
              "      padding: 0 0 0 0;\n",
              "      width: 32px;\n",
              "    }\n",
              "\n",
              "    .colab-df-convert:hover {\n",
              "      background-color: #E2EBFA;\n",
              "      box-shadow: 0px 1px 2px rgba(60, 64, 67, 0.3), 0px 1px 3px 1px rgba(60, 64, 67, 0.15);\n",
              "      fill: #174EA6;\n",
              "    }\n",
              "\n",
              "    [theme=dark] .colab-df-convert {\n",
              "      background-color: #3B4455;\n",
              "      fill: #D2E3FC;\n",
              "    }\n",
              "\n",
              "    [theme=dark] .colab-df-convert:hover {\n",
              "      background-color: #434B5C;\n",
              "      box-shadow: 0px 1px 3px 1px rgba(0, 0, 0, 0.15);\n",
              "      filter: drop-shadow(0px 1px 2px rgba(0, 0, 0, 0.3));\n",
              "      fill: #FFFFFF;\n",
              "    }\n",
              "  </style>\n",
              "\n",
              "      <script>\n",
              "        const buttonEl =\n",
              "          document.querySelector('#df-8c762abf-36ef-420f-95b5-49188d89599b button.colab-df-convert');\n",
              "        buttonEl.style.display =\n",
              "          google.colab.kernel.accessAllowed ? 'block' : 'none';\n",
              "\n",
              "        async function convertToInteractive(key) {\n",
              "          const element = document.querySelector('#df-8c762abf-36ef-420f-95b5-49188d89599b');\n",
              "          const dataTable =\n",
              "            await google.colab.kernel.invokeFunction('convertToInteractive',\n",
              "                                                     [key], {});\n",
              "          if (!dataTable) return;\n",
              "\n",
              "          const docLinkHtml = 'Like what you see? Visit the ' +\n",
              "            '<a target=\"_blank\" href=https://colab.research.google.com/notebooks/data_table.ipynb>data table notebook</a>'\n",
              "            + ' to learn more about interactive tables.';\n",
              "          element.innerHTML = '';\n",
              "          dataTable['output_type'] = 'display_data';\n",
              "          await google.colab.output.renderOutput(dataTable, element);\n",
              "          const docLink = document.createElement('div');\n",
              "          docLink.innerHTML = docLinkHtml;\n",
              "          element.appendChild(docLink);\n",
              "        }\n",
              "      </script>\n",
              "    </div>\n",
              "  </div>\n",
              "  "
            ]
          },
          "metadata": {},
          "execution_count": 17
        }
      ]
    },
    {
      "cell_type": "code",
      "source": [
        "df2_python.dtypes"
      ],
      "metadata": {
        "colab": {
          "base_uri": "https://localhost:8080/"
        },
        "id": "VW0XFzNrg2tB",
        "outputId": "bcf51e87-2266-4093-e1da-7b3f89463209"
      },
      "execution_count": null,
      "outputs": [
        {
          "output_type": "execute_result",
          "data": {
            "text/plain": [
              "year              int64\n",
              "make             object\n",
              "model            object\n",
              "trim             object\n",
              "body             object\n",
              "transmission     object\n",
              "state            object\n",
              "condition       float64\n",
              "odometer        float64\n",
              "color            object\n",
              "interior         object\n",
              "seller           object\n",
              "mmr               int64\n",
              "sellingprice      int64\n",
              "saledate          int64\n",
              "madeRegion       object\n",
              "dtype: object"
            ]
          },
          "metadata": {},
          "execution_count": 18
        }
      ]
    },
    {
      "cell_type": "code",
      "source": [
        "df2_python['sale_gap'] = df2_python['sellingprice']-df2_python['mmr']"
      ],
      "metadata": {
        "id": "bbjoRTZGg2vw"
      },
      "execution_count": null,
      "outputs": []
    },
    {
      "cell_type": "code",
      "source": [
        "import numpy as np\n",
        "import matplotlib.pyplot as plt\n",
        "import seaborn as sns\n",
        "from matplotlib.pyplot import figure\n",
        "\n",
        "df = df2_python\n",
        "\n",
        "#fig = plt.figure()\n",
        "#fig.set_figheight(value_height)\n",
        "#fig.set_figwidth(value_width)\n",
        "\n",
        "figure(figsize = (10, 6), dpi = 80)\n",
        "plt.scatter(df[(df['sale_gap'] > -80000) & (df['sale_gap'] < 80000) ]['year'],df[(df['sale_gap'] > -80000) & (df['sale_gap'] < 80000)]['sale_gap'],c='#b0b75e')\n",
        "plt.ylabel('Sale Gap')\n",
        "plt.xlabel('Sale Year ')\n",
        "plt.show()\n"
      ],
      "metadata": {
        "colab": {
          "base_uri": "https://localhost:8080/",
          "height": 427
        },
        "id": "D1TGNFrig2yr",
        "outputId": "e66cae9e-9814-400f-ac41-d27daccdcc5d"
      },
      "execution_count": null,
      "outputs": [
        {
          "output_type": "display_data",
          "data": {
            "text/plain": [
              "<Figure size 800x480 with 1 Axes>"
            ],
            "image/png": "[encoded data removed]"
          },
          "metadata": {
            "needs_background": "light"
          }
        }
      ]
    },
    {
      "cell_type": "code",
      "source": [
        "df = df[(df['sale_gap_perc'] > -2) & (df['sale_gap_perc'] < 2) ]\n",
        "df = df[(df['sale_gap'] > -80000) & (df['sale_gap'] < 80000) ]"
      ],
      "metadata": {
        "id": "1TOjsS_WrehL"
      },
      "execution_count": null,
      "outputs": []
    },
    {
      "cell_type": "code",
      "source": [
        "df['sale_gap'].mean()"
      ],
      "metadata": {
        "colab": {
          "base_uri": "https://localhost:8080/"
        },
        "id": "FGaRg6H5g235",
        "outputId": "d9af780c-8c32-4d8b-8777-fab6e3927646"
      },
      "execution_count": null,
      "outputs": [
        {
          "output_type": "execute_result",
          "data": {
            "text/plain": [
              "-128.37636350502058"
            ]
          },
          "metadata": {},
          "execution_count": 23
        }
      ]
    },
    {
      "cell_type": "code",
      "source": [
        "df['sale_gap_perc'].mean()"
      ],
      "metadata": {
        "colab": {
          "base_uri": "https://localhost:8080/"
        },
        "id": "kvpIwEMrswD8",
        "outputId": "dac79f01-b6e9-4099-c66e-7ff5b7e7a472"
      },
      "execution_count": null,
      "outputs": [
        {
          "output_type": "execute_result",
          "data": {
            "text/plain": [
              "-0.04753126521048923"
            ]
          },
          "metadata": {},
          "execution_count": 24
        }
      ]
    },
    {
      "cell_type": "code",
      "source": [
        "df['sale_gap'].std()"
      ],
      "metadata": {
        "colab": {
          "base_uri": "https://localhost:8080/"
        },
        "id": "ec8i46a4FHNq",
        "outputId": "c55d766f-bcb1-4d99-c48e-ffaa6f498249"
      },
      "execution_count": null,
      "outputs": [
        {
          "output_type": "execute_result",
          "data": {
            "text/plain": [
              "1651.4145943981757"
            ]
          },
          "metadata": {},
          "execution_count": 26
        }
      ]
    },
    {
      "cell_type": "code",
      "source": [
        "figure(figsize = (10, 6), dpi = 80)\n",
        "\n",
        "plt.scatter(df['odometer'],df['sale_gap'],c='#b0b75e')\n",
        "plt.ylabel('Sale Gap')\n",
        "plt.xlabel('Odometer')\n",
        "plt\n",
        "plt.show()"
      ],
      "metadata": {
        "colab": {
          "base_uri": "https://localhost:8080/",
          "height": 427
        },
        "id": "TuDpGK3iWtxP",
        "outputId": "e88d727b-95c7-4908-8053-33466ec20055"
      },
      "execution_count": null,
      "outputs": [
        {
          "output_type": "display_data",
          "data": {
            "text/plain": [
              "<Figure size 800x480 with 1 Axes>"
            ],
            "image/png": "[encoded data removed]"
          },
          "metadata": {
            "needs_background": "light"
          }
        }
      ]
    },
    {
      "cell_type": "code",
      "source": [
        "figure(figsize = (10, 6), dpi = 80)\n",
        "\n",
        "fig = plt.figure()\n",
        "fig.set_size_inches(10, 6, forward=True)\n",
        "ax = fig.add_subplot()\n",
        "ax.hist(df[(df['sale_gap'] > -3000) & (df['sale_gap'] < 3000) ]['sale_gap'], bins=50, alpha=0.7,color='#b0b75e')\n",
        "ax.set_xlabel('Sale Gap', size =11)\n",
        "ax.set_ylabel('Count', size =11)\n",
        "\n",
        "plt.show()"
      ],
      "metadata": {
        "colab": {
          "base_uri": "https://localhost:8080/",
          "height": 410
        },
        "id": "Kr1oDUDWZnYU",
        "outputId": "952be7a1-0797-402e-f6da-2b68bdbec5ee"
      },
      "execution_count": null,
      "outputs": [
        {
          "output_type": "display_data",
          "data": {
            "text/plain": [
              "<Figure size 800x480 with 0 Axes>"
            ]
          },
          "metadata": {}
        },
        {
          "output_type": "display_data",
          "data": {
            "text/plain": [
              "<Figure size 720x432 with 1 Axes>"
            ],
            "image/png": "[encoded data removed]"
          },
          "metadata": {
            "needs_background": "light"
          }
        }
      ]
    },
    {
      "cell_type": "code",
      "source": [
        "df = df[(df['sale_gap'] > -3000) & (df['sale_gap'] < 3000) ]"
      ],
      "metadata": {
        "id": "Gk82Ly8yZnas"
      },
      "execution_count": null,
      "outputs": []
    }
  ]
}
