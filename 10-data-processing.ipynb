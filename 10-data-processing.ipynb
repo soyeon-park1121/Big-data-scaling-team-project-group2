{
  "nbformat": 4,
  "nbformat_minor": 0,
  "metadata": {
    "colab": {
      "name": "10-data-processing.ipynb",
      "provenance": [],
      "collapsed_sections": [
        "SUBKq9VFfi6p",
        "7WtOH_Rupruu"
      ]
    },
    "kernelspec": {
      "name": "python3",
      "display_name": "Python 3"
    },
    "language_info": {
      "name": "python"
    }
  },
  "cells": [
    {
      "cell_type": "markdown",
      "source": [
        "In this notebook, I am going to do data pre-processing. \n",
        "1. Imputing missing values\n",
        "2. Feature Engineering\n",
        "\n",
        "  - create a 'used year' using \n",
        "  - Extract sale year from sale date "
      ],
      "metadata": {
        "id": "oPSoV9OS_92m"
      }
    },
    {
      "cell_type": "code",
      "execution_count": null,
      "metadata": {
        "colab": {
          "base_uri": "https://localhost:8080/"
        },
        "id": "zhIp67dU2wYV",
        "outputId": "4b1dd6db-ab92-4592-cb40-401fc5017337"
      },
      "outputs": [
        {
          "output_type": "stream",
          "name": "stdout",
          "text": [
            "Mounted at /content/drive\n"
          ]
        }
      ],
      "source": [
        "from google.colab import drive\n",
        "drive.mount('/content/drive')"
      ]
    },
    {
      "cell_type": "code",
      "source": [
        "!pip install pyspark \n",
        "!pip install -U -q PyDrive\n",
        "!apt install openjdk-8-jdk-headless -qq\n",
        "import os\n",
        "os.environ[\"JAVA_HOME\"] = \"/usr/lib/jvm/java-8-openjdk-amd64\""
      ],
      "metadata": {
        "colab": {
          "base_uri": "https://localhost:8080/"
        },
        "id": "9CHF6wet3Sg7",
        "outputId": "d5f6f638-c86b-4204-c093-3ce203361299"
      },
      "execution_count": null,
      "outputs": [
        {
          "output_type": "stream",
          "name": "stdout",
          "text": [
            "Collecting pyspark\n",
            "  Downloading pyspark-3.2.1.tar.gz (281.4 MB)\n",
            "\u001b[K     |████████████████████████████████| 281.4 MB 35 kB/s \n",
            "\u001b[?25hCollecting py4j==0.10.9.3\n",
            "  Downloading py4j-0.10.9.3-py2.py3-none-any.whl (198 kB)\n",
            "\u001b[K     |████████████████████████████████| 198 kB 60.1 MB/s \n",
            "\u001b[?25hBuilding wheels for collected packages: pyspark\n",
            "  Building wheel for pyspark (setup.py) ... \u001b[?25l\u001b[?25hdone\n",
            "  Created wheel for pyspark: filename=pyspark-3.2.1-py2.py3-none-any.whl size=281853642 sha256=720ec5b79bc6403e88fdfd118ac1130134b5a59c4a272fca091b44f970ea05ed\n",
            "  Stored in directory: /root/.cache/pip/wheels/9f/f5/07/7cd8017084dce4e93e84e92efd1e1d5334db05f2e83bcef74f\n",
            "Successfully built pyspark\n",
            "Installing collected packages: py4j, pyspark\n",
            "Successfully installed py4j-0.10.9.3 pyspark-3.2.1\n",
            "The following additional packages will be installed:\n",
            "  openjdk-8-jre-headless\n",
            "Suggested packages:\n",
            "  openjdk-8-demo openjdk-8-source libnss-mdns fonts-dejavu-extra\n",
            "  fonts-ipafont-gothic fonts-ipafont-mincho fonts-wqy-microhei\n",
            "  fonts-wqy-zenhei fonts-indic\n",
            "The following NEW packages will be installed:\n",
            "  openjdk-8-jdk-headless openjdk-8-jre-headless\n",
            "0 upgraded, 2 newly installed, 0 to remove and 39 not upgraded.\n",
            "Need to get 36.5 MB of archives.\n",
            "After this operation, 143 MB of additional disk space will be used.\n",
            "Selecting previously unselected package openjdk-8-jre-headless:amd64.\n",
            "(Reading database ... 155455 files and directories currently installed.)\n",
            "Preparing to unpack .../openjdk-8-jre-headless_8u312-b07-0ubuntu1~18.04_amd64.deb ...\n",
            "Unpacking openjdk-8-jre-headless:amd64 (8u312-b07-0ubuntu1~18.04) ...\n",
            "Selecting previously unselected package openjdk-8-jdk-headless:amd64.\n",
            "Preparing to unpack .../openjdk-8-jdk-headless_8u312-b07-0ubuntu1~18.04_amd64.deb ...\n",
            "Unpacking openjdk-8-jdk-headless:amd64 (8u312-b07-0ubuntu1~18.04) ...\n",
            "Setting up openjdk-8-jre-headless:amd64 (8u312-b07-0ubuntu1~18.04) ...\n",
            "update-alternatives: using /usr/lib/jvm/java-8-openjdk-amd64/jre/bin/orbd to provide /usr/bin/orbd (orbd) in auto mode\n",
            "update-alternatives: using /usr/lib/jvm/java-8-openjdk-amd64/jre/bin/servertool to provide /usr/bin/servertool (servertool) in auto mode\n",
            "update-alternatives: using /usr/lib/jvm/java-8-openjdk-amd64/jre/bin/tnameserv to provide /usr/bin/tnameserv (tnameserv) in auto mode\n",
            "Setting up openjdk-8-jdk-headless:amd64 (8u312-b07-0ubuntu1~18.04) ...\n",
            "update-alternatives: using /usr/lib/jvm/java-8-openjdk-amd64/bin/idlj to provide /usr/bin/idlj (idlj) in auto mode\n",
            "update-alternatives: using /usr/lib/jvm/java-8-openjdk-amd64/bin/wsimport to provide /usr/bin/wsimport (wsimport) in auto mode\n",
            "update-alternatives: using /usr/lib/jvm/java-8-openjdk-amd64/bin/jsadebugd to provide /usr/bin/jsadebugd (jsadebugd) in auto mode\n",
            "update-alternatives: using /usr/lib/jvm/java-8-openjdk-amd64/bin/native2ascii to provide /usr/bin/native2ascii (native2ascii) in auto mode\n",
            "update-alternatives: using /usr/lib/jvm/java-8-openjdk-amd64/bin/javah to provide /usr/bin/javah (javah) in auto mode\n",
            "update-alternatives: using /usr/lib/jvm/java-8-openjdk-amd64/bin/hsdb to provide /usr/bin/hsdb (hsdb) in auto mode\n",
            "update-alternatives: using /usr/lib/jvm/java-8-openjdk-amd64/bin/clhsdb to provide /usr/bin/clhsdb (clhsdb) in auto mode\n",
            "update-alternatives: using /usr/lib/jvm/java-8-openjdk-amd64/bin/xjc to provide /usr/bin/xjc (xjc) in auto mode\n",
            "update-alternatives: using /usr/lib/jvm/java-8-openjdk-amd64/bin/schemagen to provide /usr/bin/schemagen (schemagen) in auto mode\n",
            "update-alternatives: using /usr/lib/jvm/java-8-openjdk-amd64/bin/extcheck to provide /usr/bin/extcheck (extcheck) in auto mode\n",
            "update-alternatives: using /usr/lib/jvm/java-8-openjdk-amd64/bin/jhat to provide /usr/bin/jhat (jhat) in auto mode\n",
            "update-alternatives: using /usr/lib/jvm/java-8-openjdk-amd64/bin/wsgen to provide /usr/bin/wsgen (wsgen) in auto mode\n"
          ]
        }
      ]
    },
    {
      "cell_type": "code",
      "source": [
        "import pandas as pd"
      ],
      "metadata": {
        "id": "XKN5s2ZccYdm"
      },
      "execution_count": null,
      "outputs": []
    },
    {
      "cell_type": "code",
      "source": [
        "cur_path = \"/content/drive/MyDrive/BigData/finalProject/\"\n",
        "os.chdir(cur_path)"
      ],
      "metadata": {
        "id": "1gbfiegb3W-Y"
      },
      "execution_count": null,
      "outputs": []
    },
    {
      "cell_type": "code",
      "source": [
        "# Start Spark session\n",
        "from pyspark.sql import SparkSession\n",
        "spark = SparkSession.builder.appName('final').getOrCreate()"
      ],
      "metadata": {
        "id": "Yk8UaNgD3C3X"
      },
      "execution_count": null,
      "outputs": []
    },
    {
      "cell_type": "code",
      "source": [
        "# Import data\n",
        "data = spark.read.csv(cur_path + 'car_prices.csv',inferSchema=True,header=True)"
      ],
      "metadata": {
        "id": "CuzbN5BT4E3t"
      },
      "execution_count": null,
      "outputs": []
    },
    {
      "cell_type": "code",
      "source": [
        "data.show()"
      ],
      "metadata": {
        "colab": {
          "base_uri": "https://localhost:8080/"
        },
        "id": "jYYXo9y44fIF",
        "outputId": "f21da9b7-8716-41b7-9c2e-27399d05828a"
      },
      "execution_count": null,
      "outputs": [
        {
          "output_type": "stream",
          "name": "stdout",
          "text": [
            "+----+---------+-------------------+--------------------+-----------+------------+-----------------+-----+---------+--------+------+--------+--------------------+-----+------------+--------------------+\n",
            "|year|     make|              model|                trim|       body|transmission|              vin|state|condition|odometer| color|interior|              seller|  mmr|sellingprice|            saledate|\n",
            "+----+---------+-------------------+--------------------+-----------+------------+-----------------+-----+---------+--------+------+--------+--------------------+-----+------------+--------------------+\n",
            "|2015|      Kia|            Sorento|                  LX|        SUV|   automatic|5xyktca69fg566472|   ca|        5| 16639.0| white|   black|kia motors americ...|20500|       21500|Tue Dec 16 2014 1...|\n",
            "|2015|      Kia|            Sorento|                  LX|        SUV|   automatic|5xyktca69fg561319|   ca|        5|  9393.0| white|   beige|kia motors americ...|20800|       21500|Tue Dec 16 2014 1...|\n",
            "|2014|      BMW|           3 Series|          328i SULEV|      Sedan|   automatic|wba3c1c51ek116351|   ca|      4.5|  1331.0|  gray|   black|financial service...|31900|       30000|Thu Jan 15 2015 0...|\n",
            "|2015|    Volvo|                S60|                  T5|      Sedan|   automatic|yv1612tb4f1310987|   ca|      4.1| 14282.0| white|   black|volvo na rep/worl...|27500|       27750|Thu Jan 29 2015 0...|\n",
            "|2014|      BMW|6 Series Gran Coupe|                650i|      Sedan|   automatic|wba6b2c57ed129731|   ca|      4.3|  2641.0|  gray|   black|financial service...|66000|       67000|Thu Dec 18 2014 1...|\n",
            "|2015|   Nissan|             Altima|               2.5 S|      Sedan|   automatic|1n4al3ap1fn326013|   ca|        1|  5554.0|  gray|   black|enterprise vehicl...|15350|       10900|Tue Dec 30 2014 1...|\n",
            "|2014|      BMW|                 M5|                Base|      Sedan|   automatic|wbsfv9c51ed593089|   ca|      3.4| 14943.0| black|   black|the hertz corpora...|69000|       65000|Wed Dec 17 2014 1...|\n",
            "|2014|Chevrolet|              Cruze|                 1LT|      Sedan|   automatic|1g1pc5sb2e7128460|   ca|        2| 28617.0| black|   black|enterprise vehicl...|11900|        9800|Tue Dec 16 2014 1...|\n",
            "|2014|     Audi|                 A4|2.0T Premium Plus...|      Sedan|   automatic|wauffafl3en030343|   ca|      4.2|  9557.0| white|   black|  audi mission viejo|32100|       32250|Thu Dec 18 2014 1...|\n",
            "|2014|Chevrolet|             Camaro|                  LT|Convertible|   automatic|2g1fb3d37e9218789|   ca|        3|  4809.0|   red|   black|  d/m auto sales inc|26300|       17500|Tue Jan 20 2015 0...|\n",
            "|2014|     Audi|                 A6|3.0T Prestige qua...|      Sedan|   automatic|wauhgafc0en062916|   ca|      4.8| 14414.0| black|   black|   desert auto trade|47300|       49750|Tue Dec 16 2014 1...|\n",
            "|2015|      Kia|             Optima|                  LX|      Sedan|   automatic|5xxgm4a73fg353538|   ca|      4.8|  2034.0|   red|     tan|  kia motors finance|15150|       17700|Tue Dec 16 2014 1...|\n",
            "|2015|     Ford|             Fusion|                  SE|      Sedan|   automatic|3fa6p0hdxfr145753|   ca|        2|  5559.0| white|   beige|enterprise vehicl...|15350|       12000|Tue Jan 13 2015 1...|\n",
            "|2015|      Kia|            Sorento|                  LX|        SUV|   automatic|5xyktca66fg561407|   ca|        5| 14634.0|silver|   black|kia motors americ...|20600|       21500|Tue Dec 16 2014 1...|\n",
            "|2014|Chevrolet|              Cruze|                 2LT|      Sedan|   automatic|1g1pe5sbxe7120097|   ca|     null| 15686.0|  blue|   black|avis rac/san leandro|13900|       10600|Tue Dec 16 2014 1...|\n",
            "|2015|   Nissan|             Altima|               2.5 S|      Sedan|   automatic|1n4al3ap5fc124223|   ca|        2| 11398.0| black|   black|enterprise vehicl...|14750|       14100|Tue Dec 23 2014 1...|\n",
            "|2015|  Hyundai|             Sonata|                  SE|      Sedan|        null|5npe24af4fh001562|   ca|     null|  8311.0|   red|       —|            avis tra|15200|        4200|Tue Dec 16 2014 1...|\n",
            "|2014|     Audi|                 Q5|2.0T Premium Plus...|        SUV|   automatic|wa1lfafpxea085074|   ca|      4.9|  7983.0| white|   black|audi north scotts...|37100|       40000|Thu Dec 18 2014 1...|\n",
            "|2014|Chevrolet|             Camaro|                  LS|      Coupe|   automatic|2g1fa1e39e9134494|   ca|      1.7| 13441.0| black|   black|wells fargo deale...|17750|       17000|Tue Dec 30 2014 1...|\n",
            "|2014|      BMW|           6 Series|                650i|Convertible|   automatic|wbayp9c53ed169260|   ca|      3.4|  8819.0| black|   black|the hertz corpora...|68000|       67200|Wed Dec 17 2014 1...|\n",
            "+----+---------+-------------------+--------------------+-----------+------------+-----------------+-----+---------+--------+------+--------+--------------------+-----+------------+--------------------+\n",
            "only showing top 20 rows\n",
            "\n"
          ]
        }
      ]
    },
    {
      "cell_type": "code",
      "source": [
        "# Examine the summary of the data\n",
        "data.summary().show()"
      ],
      "metadata": {
        "colab": {
          "base_uri": "https://localhost:8080/"
        },
        "id": "z5N7qpL78M9U",
        "outputId": "9a66065b-e99b-4ea2-e6a8-a349be5293d8"
      },
      "execution_count": null,
      "outputs": [
        {
          "output_type": "stream",
          "name": "stdout",
          "text": [
            "+-------+-----------------+------+-----------------+------------------+------------+------------+-----------------+-----------------+------------------+-----------------+-----------------+--------+--------------------+--------------------+------------------+--------------------+\n",
            "|summary|             year|  make|            model|              trim|        body|transmission|              vin|            state|         condition|         odometer|            color|interior|              seller|                 mmr|      sellingprice|            saledate|\n",
            "+-------+-----------------+------+-----------------+------------------+------------+------------+-----------------+-----------------+------------------+-----------------+-----------------+--------+--------------------+--------------------+------------------+--------------------+\n",
            "|  count|           558837|548536|           548438|            548186|      545642|      493484|           558833|           558837|            547043|           558743|           558088|  558088|              558837|              558837|            558837|              558837|\n",
            "|   mean|2010.038927272174|  null|798.4558724957176|351.94661274014175|        null|        null|             null|             null|3.4245122180862677|68320.01666973904|9048.115384615385|    null|                null|   13769.32464643681|13611.264978875772|   12430.76923076923|\n",
            "| stddev| 3.96686361540407|  null|804.7779516812844| 826.0899047351876|        null|        null|             null|             null|0.9494387859565926|53398.54422350543|6426.680159005413|    null|                null|   9679.874607347356| 9749.430356865998|  2206.6298703261014|\n",
            "|    min|             1982| Acura|                1|                 !| Navitgation|       Sedan|137fa90362e197965|3vwd17aj0fm227318|                 1|              1.0|            11034|   beige|\"enterprise vehic...|                 100|                 1|               10500|\n",
            "|    25%|             2007|  null|            200.0|               2.5|        null|        null|             null|             null|               2.7|          28364.0|           2846.0|    null|                null|              7100.0|              6900|             10700.0|\n",
            "|    50%|             2012|  null|            300.0|               2.5|        null|        null|             null|             null|               3.6|          52250.0|           6864.0|    null|                null|             12250.0|             12100|             13000.0|\n",
            "|    75%|             2013|  null|           1500.0|               3.6|        null|        null|             null|             null|               4.2|          99098.0|          14872.0|    null|                null|             18300.0|             18200|             13600.0|\n",
            "|    max|             2015|    vw|            yukon|               zx3|     xtracab|       sedan|zhwgu22t97la05738|               wi|                wi|         999999.0|                —|       —|      zygi auto corp|vw credit prequal...|            230000|Wed May 27 2015 1...|\n",
            "+-------+-----------------+------+-----------------+------------------+------------+------------+-----------------+-----------------+------------------+-----------------+-----------------+--------+--------------------+--------------------+------------------+--------------------+\n",
            "\n"
          ]
        }
      ]
    },
    {
      "cell_type": "markdown",
      "source": [
        "## Missing data\n",
        "\n",
        "Let's find how many missing data exists in the data and impute them."
      ],
      "metadata": {
        "id": "c2fyDPMU9RrR"
      }
    },
    {
      "cell_type": "code",
      "source": [
        "# The number of missing value per column\n",
        "data.select([count(when(isnan(c) | col(c).isNull(), c)).alias(c) for c in data.columns]).show()"
      ],
      "metadata": {
        "colab": {
          "base_uri": "https://localhost:8080/"
        },
        "id": "MU__RQllA8z1",
        "outputId": "b62f442c-4ea3-4527-bafb-4889f0901467"
      },
      "execution_count": null,
      "outputs": [
        {
          "output_type": "stream",
          "name": "stdout",
          "text": [
            "+----+-----+-----+-----+-----+------------+---+-----+---------+--------+-----+--------+------+---+------------+--------+\n",
            "|year| make|model| trim| body|transmission|vin|state|condition|odometer|color|interior|seller|mmr|sellingprice|saledate|\n",
            "+----+-----+-----+-----+-----+------------+---+-----+---------+--------+-----+--------+------+---+------------+--------+\n",
            "|   0|10301|10399|10651|13195|       65353|  4|    0|    11794|      94|  749|     749|     0|  0|           0|       0|\n",
            "+----+-----+-----+-----+-----+------------+---+-----+---------+--------+-----+--------+------+---+------------+--------+\n",
            "\n"
          ]
        }
      ]
    },
    {
      "cell_type": "code",
      "source": [
        "# Total number of missing values in whole dataset\n",
        "data.count()"
      ],
      "metadata": {
        "colab": {
          "base_uri": "https://localhost:8080/"
        },
        "id": "v3Dh-gduA81j",
        "outputId": "815222f7-f0fc-4cc7-9447-cdc5d38e2de2"
      },
      "execution_count": null,
      "outputs": [
        {
          "output_type": "execute_result",
          "data": {
            "text/plain": [
              "558837"
            ]
          },
          "metadata": {},
          "execution_count": 10
        }
      ]
    },
    {
      "cell_type": "code",
      "source": [
        "# The percentage of missing values in each column\n",
        "from pyspark.sql.functions import *\n",
        "amount_missing_df = data.select([(count(when(isnan(c) | col(c).isNull(), c))/count(lit(1)) * 100).alias(c) for c in data.columns])\n",
        "amount_missing_df.show()"
      ],
      "metadata": {
        "colab": {
          "base_uri": "https://localhost:8080/"
        },
        "id": "EVqI6ZR_A86C",
        "outputId": "6d16cc3d-7363-4547-c225-c3748a178edc"
      },
      "execution_count": null,
      "outputs": [
        {
          "output_type": "stream",
          "name": "stdout",
          "text": [
            "+----+------------------+-----------------+------------------+-----------------+------------------+-------------------+-----+-----------------+--------------------+-------------------+-------------------+------+---+------------+--------+\n",
            "|year|              make|            model|              trim|             body|      transmission|                vin|state|        condition|            odometer|              color|           interior|seller|mmr|sellingprice|saledate|\n",
            "+----+------------------+-----------------+------------------+-----------------+------------------+-------------------+-----+-----------------+--------------------+-------------------+-------------------+------+---+------------+--------+\n",
            "| 0.0|1.8432924090566658|1.860828828441925|1.9059224782897337|2.361153610086662|11.694465470253402|7.15772219806491E-4|  0.0|2.110454390099439|0.016820647165452538|0.13402834815876544|0.13402834815876544|   0.0|0.0|         0.0|     0.0|\n",
            "+----+------------------+-----------------+------------------+-----------------+------------------+-------------------+-----+-----------------+--------------------+-------------------+-------------------+------+---+------------+--------+\n",
            "\n"
          ]
        }
      ]
    },
    {
      "cell_type": "markdown",
      "source": [
        "## Creating a bar plot to see the percentage of missing value per column\n",
        "Now we found that there are many missing values in each column, and we calculated the exact percentage of missing values. Let's make visualziation to see them easily."
      ],
      "metadata": {
        "id": "wbSXNy4fApeX"
      }
    },
    {
      "cell_type": "code",
      "source": [
        "# Convert pyspark format to padnas dataframe format\n",
        "vis = amount_missing_df.toPandas()"
      ],
      "metadata": {
        "id": "S-tFYgnumDbT"
      },
      "execution_count": null,
      "outputs": []
    },
    {
      "cell_type": "code",
      "source": [
        "value = vis.iloc[0].tolist()\n",
        "name = vis.columns.tolist()\n",
        "\n",
        "data = {'name': name, 'missing_data': value}\n",
        "df = pd.DataFrame(data)"
      ],
      "metadata": {
        "id": "HJ7g3n-jmdPy"
      },
      "execution_count": null,
      "outputs": []
    },
    {
      "cell_type": "code",
      "source": [
        "df = df[df['missing_data'] != 0]\n",
        "df = df.sort_values('missing_data', ascending = False)\n",
        "df = df.reset_index(drop = True)"
      ],
      "metadata": {
        "id": "PdLr2D18nDla"
      },
      "execution_count": null,
      "outputs": []
    },
    {
      "cell_type": "code",
      "source": [
        "df"
      ],
      "metadata": {
        "colab": {
          "base_uri": "https://localhost:8080/",
          "height": 363
        },
        "id": "GKP_8kTJnsDw",
        "outputId": "bdea3452-0d12-4309-c03d-4c559be19349"
      },
      "execution_count": null,
      "outputs": [
        {
          "output_type": "execute_result",
          "data": {
            "text/plain": [
              "           name  missing_data\n",
              "0  transmission     11.694465\n",
              "1          body      2.361154\n",
              "2     condition      2.110454\n",
              "3          trim      1.905922\n",
              "4         model      1.860829\n",
              "5          make      1.843292\n",
              "6         color      0.134028\n",
              "7      interior      0.134028\n",
              "8      odometer      0.016821\n",
              "9           vin      0.000716"
            ],
            "text/html": [
              "\n",
              "  <div id=\"df-29ed7509-6f70-4520-9fd1-a60dcb5dbde1\">\n",
              "    <div class=\"colab-df-container\">\n",
              "      <div>\n",
              "<style scoped>\n",
              "    .dataframe tbody tr th:only-of-type {\n",
              "        vertical-align: middle;\n",
              "    }\n",
              "\n",
              "    .dataframe tbody tr th {\n",
              "        vertical-align: top;\n",
              "    }\n",
              "\n",
              "    .dataframe thead th {\n",
              "        text-align: right;\n",
              "    }\n",
              "</style>\n",
              "<table border=\"1\" class=\"dataframe\">\n",
              "  <thead>\n",
              "    <tr style=\"text-align: right;\">\n",
              "      <th></th>\n",
              "      <th>name</th>\n",
              "      <th>missing_data</th>\n",
              "    </tr>\n",
              "  </thead>\n",
              "  <tbody>\n",
              "    <tr>\n",
              "      <th>0</th>\n",
              "      <td>transmission</td>\n",
              "      <td>11.694465</td>\n",
              "    </tr>\n",
              "    <tr>\n",
              "      <th>1</th>\n",
              "      <td>body</td>\n",
              "      <td>2.361154</td>\n",
              "    </tr>\n",
              "    <tr>\n",
              "      <th>2</th>\n",
              "      <td>condition</td>\n",
              "      <td>2.110454</td>\n",
              "    </tr>\n",
              "    <tr>\n",
              "      <th>3</th>\n",
              "      <td>trim</td>\n",
              "      <td>1.905922</td>\n",
              "    </tr>\n",
              "    <tr>\n",
              "      <th>4</th>\n",
              "      <td>model</td>\n",
              "      <td>1.860829</td>\n",
              "    </tr>\n",
              "    <tr>\n",
              "      <th>5</th>\n",
              "      <td>make</td>\n",
              "      <td>1.843292</td>\n",
              "    </tr>\n",
              "    <tr>\n",
              "      <th>6</th>\n",
              "      <td>color</td>\n",
              "      <td>0.134028</td>\n",
              "    </tr>\n",
              "    <tr>\n",
              "      <th>7</th>\n",
              "      <td>interior</td>\n",
              "      <td>0.134028</td>\n",
              "    </tr>\n",
              "    <tr>\n",
              "      <th>8</th>\n",
              "      <td>odometer</td>\n",
              "      <td>0.016821</td>\n",
              "    </tr>\n",
              "    <tr>\n",
              "      <th>9</th>\n",
              "      <td>vin</td>\n",
              "      <td>0.000716</td>\n",
              "    </tr>\n",
              "  </tbody>\n",
              "</table>\n",
              "</div>\n",
              "      <button class=\"colab-df-convert\" onclick=\"convertToInteractive('df-29ed7509-6f70-4520-9fd1-a60dcb5dbde1')\"\n",
              "              title=\"Convert this dataframe to an interactive table.\"\n",
              "              style=\"display:none;\">\n",
              "        \n",
              "  <svg xmlns=\"http://www.w3.org/2000/svg\" height=\"24px\"viewBox=\"0 0 24 24\"\n",
              "       width=\"24px\">\n",
              "    <path d=\"M0 0h24v24H0V0z\" fill=\"none\"/>\n",
              "    <path d=\"M18.56 5.44l.94 2.06.94-2.06 2.06-.94-2.06-.94-.94-2.06-.94 2.06-2.06.94zm-11 1L8.5 8.5l.94-2.06 2.06-.94-2.06-.94L8.5 2.5l-.94 2.06-2.06.94zm10 10l.94 2.06.94-2.06 2.06-.94-2.06-.94-.94-2.06-.94 2.06-2.06.94z\"/><path d=\"M17.41 7.96l-1.37-1.37c-.4-.4-.92-.59-1.43-.59-.52 0-1.04.2-1.43.59L10.3 9.45l-7.72 7.72c-.78.78-.78 2.05 0 2.83L4 21.41c.39.39.9.59 1.41.59.51 0 1.02-.2 1.41-.59l7.78-7.78 2.81-2.81c.8-.78.8-2.07 0-2.86zM5.41 20L4 18.59l7.72-7.72 1.47 1.35L5.41 20z\"/>\n",
              "  </svg>\n",
              "      </button>\n",
              "      \n",
              "  <style>\n",
              "    .colab-df-container {\n",
              "      display:flex;\n",
              "      flex-wrap:wrap;\n",
              "      gap: 12px;\n",
              "    }\n",
              "\n",
              "    .colab-df-convert {\n",
              "      background-color: #E8F0FE;\n",
              "      border: none;\n",
              "      border-radius: 50%;\n",
              "      cursor: pointer;\n",
              "      display: none;\n",
              "      fill: #1967D2;\n",
              "      height: 32px;\n",
              "      padding: 0 0 0 0;\n",
              "      width: 32px;\n",
              "    }\n",
              "\n",
              "    .colab-df-convert:hover {\n",
              "      background-color: #E2EBFA;\n",
              "      box-shadow: 0px 1px 2px rgba(60, 64, 67, 0.3), 0px 1px 3px 1px rgba(60, 64, 67, 0.15);\n",
              "      fill: #174EA6;\n",
              "    }\n",
              "\n",
              "    [theme=dark] .colab-df-convert {\n",
              "      background-color: #3B4455;\n",
              "      fill: #D2E3FC;\n",
              "    }\n",
              "\n",
              "    [theme=dark] .colab-df-convert:hover {\n",
              "      background-color: #434B5C;\n",
              "      box-shadow: 0px 1px 3px 1px rgba(0, 0, 0, 0.15);\n",
              "      filter: drop-shadow(0px 1px 2px rgba(0, 0, 0, 0.3));\n",
              "      fill: #FFFFFF;\n",
              "    }\n",
              "  </style>\n",
              "\n",
              "      <script>\n",
              "        const buttonEl =\n",
              "          document.querySelector('#df-29ed7509-6f70-4520-9fd1-a60dcb5dbde1 button.colab-df-convert');\n",
              "        buttonEl.style.display =\n",
              "          google.colab.kernel.accessAllowed ? 'block' : 'none';\n",
              "\n",
              "        async function convertToInteractive(key) {\n",
              "          const element = document.querySelector('#df-29ed7509-6f70-4520-9fd1-a60dcb5dbde1');\n",
              "          const dataTable =\n",
              "            await google.colab.kernel.invokeFunction('convertToInteractive',\n",
              "                                                     [key], {});\n",
              "          if (!dataTable) return;\n",
              "\n",
              "          const docLinkHtml = 'Like what you see? Visit the ' +\n",
              "            '<a target=\"_blank\" href=https://colab.research.google.com/notebooks/data_table.ipynb>data table notebook</a>'\n",
              "            + ' to learn more about interactive tables.';\n",
              "          element.innerHTML = '';\n",
              "          dataTable['output_type'] = 'display_data';\n",
              "          await google.colab.output.renderOutput(dataTable, element);\n",
              "          const docLink = document.createElement('div');\n",
              "          docLink.innerHTML = docLinkHtml;\n",
              "          element.appendChild(docLink);\n",
              "        }\n",
              "      </script>\n",
              "    </div>\n",
              "  </div>\n",
              "  "
            ]
          },
          "metadata": {},
          "execution_count": 20
        }
      ]
    },
    {
      "cell_type": "code",
      "source": [
        "# Visualization to see how many missing data exists in the data\n",
        "df.plot.barh(x='name', y='missing_data',\n",
        "             title='Missing data by column', color='#B0B75E')"
      ],
      "metadata": {
        "colab": {
          "base_uri": "https://localhost:8080/",
          "height": 299
        },
        "id": "Sqtc9bBQnwfm",
        "outputId": "d07e139a-5b7a-4684-c763-60b4879ca1a0"
      },
      "execution_count": null,
      "outputs": [
        {
          "output_type": "execute_result",
          "data": {
            "text/plain": [
              "<matplotlib.axes._subplots.AxesSubplot at 0x7f744271b650>"
            ]
          },
          "metadata": {},
          "execution_count": 21
        },
        {
          "output_type": "display_data",
          "data": {
            "text/plain": [
              "<Figure size 432x288 with 1 Axes>"
            ],
            "image/png": "[encoded data removed]"
          },
          "metadata": {
            "needs_background": "light"
          }
        }
      ]
    },
    {
      "cell_type": "markdown",
      "source": [
        "We found that the column 'transmission' has the highest percentage of missing value, and its percentage is 11.69%"
      ],
      "metadata": {
        "id": "qt1s49DQBCjl"
      }
    },
    {
      "cell_type": "markdown",
      "source": [
        "#Impute Missing Data"
      ],
      "metadata": {
        "id": "Ecs1JWkkrPWO"
      }
    },
    {
      "cell_type": "markdown",
      "source": [
        "## 1) Transmission"
      ],
      "metadata": {
        "id": "mrnH_1fEdNRN"
      }
    },
    {
      "cell_type": "markdown",
      "source": [
        "Transmission has the largest percent of missing value, which is almost 12%. Other things are less than 3%."
      ],
      "metadata": {
        "id": "vP4tzRKpJbi2"
      }
    },
    {
      "cell_type": "code",
      "source": [
        "# Observe the components of transmisison\n",
        "data.select('transmission').distinct().show()"
      ],
      "metadata": {
        "colab": {
          "base_uri": "https://localhost:8080/"
        },
        "id": "rLVYDbWRJ7U1",
        "outputId": "2dae1fed-49be-48a8-b651-c8b73ced2e3a"
      },
      "execution_count": null,
      "outputs": [
        {
          "output_type": "stream",
          "name": "stdout",
          "text": [
            "+------------+\n",
            "|transmission|\n",
            "+------------+\n",
            "|        null|\n",
            "|   automatic|\n",
            "|      manual|\n",
            "|       Sedan|\n",
            "|       sedan|\n",
            "+------------+\n",
            "\n"
          ]
        }
      ]
    },
    {
      "cell_type": "markdown",
      "source": [
        "'Sedan' and 'sedan' represents the same thing, but one is expressed with a capital letter, while the other is expressed with a small letter. Since other category has only small letters, we changed 'Sedan' into 'sedan'."
      ],
      "metadata": {
        "id": "2n_VKeGNBow6"
      }
    },
    {
      "cell_type": "code",
      "source": [
        "# Change 'Sedan' to 'sedan'\n",
        "data = data.withColumn('transmission', regexp_replace('transmission', 'Sedan', 'sedan'))\n",
        "data.select('transmission').distinct().show()"
      ],
      "metadata": {
        "colab": {
          "base_uri": "https://localhost:8080/"
        },
        "id": "zhxwN1RRJ7Zd",
        "outputId": "c96c8ad6-4ae7-4f9f-c052-04a574ee5fe0"
      },
      "execution_count": null,
      "outputs": [
        {
          "output_type": "stream",
          "name": "stdout",
          "text": [
            "+------------+\n",
            "|transmission|\n",
            "+------------+\n",
            "|        null|\n",
            "|   automatic|\n",
            "|      manual|\n",
            "|       sedan|\n",
            "+------------+\n",
            "\n"
          ]
        }
      ]
    },
    {
      "cell_type": "code",
      "source": [
        "data.groupBy('transmission').count().show()"
      ],
      "metadata": {
        "colab": {
          "base_uri": "https://localhost:8080/"
        },
        "id": "9cf-bvZASbX3",
        "outputId": "f2645fcb-74cf-4a99-8381-82d0337b5f8b"
      },
      "execution_count": null,
      "outputs": [
        {
          "output_type": "stream",
          "name": "stdout",
          "text": [
            "+------------+------+\n",
            "|transmission| count|\n",
            "+------------+------+\n",
            "|        null| 65353|\n",
            "|   automatic|475914|\n",
            "|      manual| 17544|\n",
            "|       sedan|    26|\n",
            "+------------+------+\n",
            "\n"
          ]
        }
      ]
    },
    {
      "cell_type": "code",
      "source": [
        "# Calculate the percentage of 'automatic' values in this column\n",
        "475914 / data.count()\n",
        "\n",
        "data = data.na.fill(value='automatic',subset=[\"transmission\"])"
      ],
      "metadata": {
        "id": "RVnh12zDSjQ9"
      },
      "execution_count": null,
      "outputs": []
    },
    {
      "cell_type": "markdown",
      "source": [
        "85% of transmission is \"automatic\". Since majority of cars have an automatic transmission, null data will be filled with \"automatic\"\n"
      ],
      "metadata": {
        "id": "wD9vn9_3CMI6"
      }
    },
    {
      "cell_type": "markdown",
      "source": [
        "## 2) body"
      ],
      "metadata": {
        "id": "f13yq5nqUYSo"
      }
    },
    {
      "cell_type": "code",
      "source": [
        "data.select('body').distinct().show()"
      ],
      "metadata": {
        "colab": {
          "base_uri": "https://localhost:8080/"
        },
        "id": "S4NVo9L6SjV8",
        "outputId": "c38d5dec-e40b-4e4b-b709-2cbfb04ebdeb"
      },
      "execution_count": null,
      "outputs": [
        {
          "output_type": "stream",
          "name": "stdout",
          "text": [
            "+--------------------+\n",
            "|                body|\n",
            "+--------------------+\n",
            "|       G Convertible|\n",
            "|                Koup|\n",
            "|            Quad Cab|\n",
            "|             G Sedan|\n",
            "|          Access Cab|\n",
            "|        Extended Cab|\n",
            "|           Hatchback|\n",
            "|            Club Cab|\n",
            "|             Ram Van|\n",
            "|             G Coupe|\n",
            "|           Q60 Coupe|\n",
            "|         Convertible|\n",
            "|         CrewMax Cab|\n",
            "|                null|\n",
            "|            King Cab|\n",
            "|        E-Series Van|\n",
            "|            Crew Cab|\n",
            "|          Double Cab|\n",
            "|          Cab Plus 4|\n",
            "|         Regular Cab|\n",
            "|     TSX Sport Wagon|\n",
            "|            SuperCab|\n",
            "|                 SUV|\n",
            "|         CTS-V Coupe|\n",
            "|               Sedan|\n",
            "|             Xtracab|\n",
            "|         convertible|\n",
            "|           CTS Wagon|\n",
            "|           SuperCrew|\n",
            "|       Genesis Coupe|\n",
            "|               Wagon|\n",
            "|       Elantra Coupe|\n",
            "|            Cab Plus|\n",
            "|                 Van|\n",
            "|               sedan|\n",
            "|           CTS Coupe|\n",
            "|GranTurismo Conve...|\n",
            "|         CTS-V Wagon|\n",
            "|  Beetle Convertible|\n",
            "|            Mega Cab|\n",
            "|     G37 Convertible|\n",
            "| Promaster Cargo Van|\n",
            "|               Coupe|\n",
            "|             Minivan|\n",
            "|     Q60 Convertible|\n",
            "|           G37 Coupe|\n",
            "|             minivan|\n",
            "|                 van|\n",
            "|         Transit Van|\n",
            "|         regular-cab|\n",
            "|                 suv|\n",
            "|         Navitgation|\n",
            "|           g37 coupe|\n",
            "|            crew cab|\n",
            "|         crewmax cab|\n",
            "|           cts wagon|\n",
            "|            supercab|\n",
            "|             g coupe|\n",
            "|               wagon|\n",
            "|       g convertible|\n",
            "|granturismo conve...|\n",
            "|               coupe|\n",
            "|     g37 convertible|\n",
            "|     q60 convertible|\n",
            "|            mega cab|\n",
            "| promaster cargo van|\n",
            "|            king cab|\n",
            "|          access cab|\n",
            "|         cts-v coupe|\n",
            "|       genesis coupe|\n",
            "|         transit van|\n",
            "|  beetle convertible|\n",
            "|        extended cab|\n",
            "|            club cab|\n",
            "|        e-series van|\n",
            "|                koup|\n",
            "|          cab plus 4|\n",
            "|           q60 coupe|\n",
            "|       elantra coupe|\n",
            "|             xtracab|\n",
            "|           hatchback|\n",
            "|     tsx sport wagon|\n",
            "|           cts coupe|\n",
            "|           supercrew|\n",
            "|          double cab|\n",
            "|         regular cab|\n",
            "|            quad cab|\n",
            "|             g sedan|\n",
            "+--------------------+\n",
            "\n"
          ]
        }
      ]
    },
    {
      "cell_type": "code",
      "source": [
        "# Since the body is mixed with capital and lower letter, convert them into lower letter.\n",
        "from pyspark.sql.functions import lower, col\n",
        "data = data.withColumn('body', lower(col(\"body\")))"
      ],
      "metadata": {
        "id": "eN-Yc8AzUbQy"
      },
      "execution_count": null,
      "outputs": []
    },
    {
      "cell_type": "code",
      "source": [
        "data = data.withColumn('body', \n",
        "   when(data.body.contains('sedan'),'sedan') \n",
        "  .when(data.body.contains('suv'),'suv') \n",
        "  .when(data.body.contains('cab'),'cab')\n",
        "  .when(data.body.contains('oup'),'coupe')\n",
        "  .when(data.body.contains('van'),'van')\n",
        "  .when(data.body.contains('convertible'),'convertible')\n",
        "  .when(data.body.contains('wagon'),'wagon')\n",
        "  .otherwise(data.body))"
      ],
      "metadata": {
        "id": "oYVLWV5USjfv"
      },
      "execution_count": null,
      "outputs": []
    },
    {
      "cell_type": "code",
      "source": [
        "data.groupBy('body').count().show(100)"
      ],
      "metadata": {
        "colab": {
          "base_uri": "https://localhost:8080/"
        },
        "id": "ZzlxbT3yaElY",
        "outputId": "28df84d0-585f-4d12-fec5-390b836a002d"
      },
      "execution_count": null,
      "outputs": [
        {
          "output_type": "stream",
          "name": "stdout",
          "text": [
            "+------------+------+\n",
            "|        body| count|\n",
            "+------------+------+\n",
            "|         van| 31959|\n",
            "|       wagon| 16180|\n",
            "|        null| 13195|\n",
            "|       coupe| 20163|\n",
            "|         suv|143844|\n",
            "| convertible| 10933|\n",
            "|       sedan|248760|\n",
            "|   hatchback| 26237|\n",
            "|   supercrew|  9033|\n",
            "|         cab| 38507|\n",
            "| navitgation|    26|\n",
            "+------------+------+\n",
            "\n"
          ]
        }
      ]
    },
    {
      "cell_type": "code",
      "source": [
        "data = data.na.drop(subset=[\"body\"])"
      ],
      "metadata": {
        "id": "O1Aykww4a1_P"
      },
      "execution_count": null,
      "outputs": []
    },
    {
      "cell_type": "code",
      "source": [
        "data.groupBy('body').count().show(100)"
      ],
      "metadata": {
        "colab": {
          "base_uri": "https://localhost:8080/"
        },
        "id": "CD8vGsysa2BG",
        "outputId": "ccdc56f0-2186-4a5a-f3be-225c74684c49"
      },
      "execution_count": null,
      "outputs": [
        {
          "output_type": "stream",
          "name": "stdout",
          "text": [
            "+------------+------+\n",
            "|        body| count|\n",
            "+------------+------+\n",
            "|         van| 31959|\n",
            "|       wagon| 16180|\n",
            "|       coupe| 20163|\n",
            "|         suv|143844|\n",
            "| convertible| 10933|\n",
            "|       sedan|248760|\n",
            "|   hatchback| 26237|\n",
            "|   supercrew|  9033|\n",
            "|         cab| 38507|\n",
            "| navitgation|    26|\n",
            "+------------+------+\n",
            "\n"
          ]
        }
      ]
    },
    {
      "cell_type": "markdown",
      "source": [
        "## 3) Condition"
      ],
      "metadata": {
        "id": "ybZxBJyHdfv2"
      }
    },
    {
      "cell_type": "code",
      "source": [
        "data.show()"
      ],
      "metadata": {
        "colab": {
          "base_uri": "https://localhost:8080/"
        },
        "id": "sjoDZGoQsIxv",
        "outputId": "46e74cb2-bc86-4e2f-eb1b-180aae1e6f33"
      },
      "execution_count": null,
      "outputs": [
        {
          "output_type": "stream",
          "name": "stdout",
          "text": [
            "+----+---------+-------------------+--------------------+-----------+------------+-----------------+-----+---------+--------+------+--------+--------------------+-----+------------+--------------------+\n",
            "|year|     make|              model|                trim|       body|transmission|              vin|state|condition|odometer| color|interior|              seller|  mmr|sellingprice|            saledate|\n",
            "+----+---------+-------------------+--------------------+-----------+------------+-----------------+-----+---------+--------+------+--------+--------------------+-----+------------+--------------------+\n",
            "|2015|      Kia|            Sorento|                  LX|        SUV|   automatic|5xyktca69fg566472|   ca|        5| 16639.0| white|   black|kia motors americ...|20500|       21500|Tue Dec 16 2014 1...|\n",
            "|2015|      Kia|            Sorento|                  LX|        SUV|   automatic|5xyktca69fg561319|   ca|        5|  9393.0| white|   beige|kia motors americ...|20800|       21500|Tue Dec 16 2014 1...|\n",
            "|2014|      BMW|           3 Series|          328i SULEV|      Sedan|   automatic|wba3c1c51ek116351|   ca|      4.5|  1331.0|  gray|   black|financial service...|31900|       30000|Thu Jan 15 2015 0...|\n",
            "|2015|    Volvo|                S60|                  T5|      Sedan|   automatic|yv1612tb4f1310987|   ca|      4.1| 14282.0| white|   black|volvo na rep/worl...|27500|       27750|Thu Jan 29 2015 0...|\n",
            "|2014|      BMW|6 Series Gran Coupe|                650i|      Sedan|   automatic|wba6b2c57ed129731|   ca|      4.3|  2641.0|  gray|   black|financial service...|66000|       67000|Thu Dec 18 2014 1...|\n",
            "|2015|   Nissan|             Altima|               2.5 S|      Sedan|   automatic|1n4al3ap1fn326013|   ca|        1|  5554.0|  gray|   black|enterprise vehicl...|15350|       10900|Tue Dec 30 2014 1...|\n",
            "|2014|      BMW|                 M5|                Base|      Sedan|   automatic|wbsfv9c51ed593089|   ca|      3.4| 14943.0| black|   black|the hertz corpora...|69000|       65000|Wed Dec 17 2014 1...|\n",
            "|2014|Chevrolet|              Cruze|                 1LT|      Sedan|   automatic|1g1pc5sb2e7128460|   ca|        2| 28617.0| black|   black|enterprise vehicl...|11900|        9800|Tue Dec 16 2014 1...|\n",
            "|2014|     Audi|                 A4|2.0T Premium Plus...|      Sedan|   automatic|wauffafl3en030343|   ca|      4.2|  9557.0| white|   black|  audi mission viejo|32100|       32250|Thu Dec 18 2014 1...|\n",
            "|2014|Chevrolet|             Camaro|                  LT|Convertible|   automatic|2g1fb3d37e9218789|   ca|        3|  4809.0|   red|   black|  d/m auto sales inc|26300|       17500|Tue Jan 20 2015 0...|\n",
            "|2014|     Audi|                 A6|3.0T Prestige qua...|      Sedan|   automatic|wauhgafc0en062916|   ca|      4.8| 14414.0| black|   black|   desert auto trade|47300|       49750|Tue Dec 16 2014 1...|\n",
            "|2015|      Kia|             Optima|                  LX|      Sedan|   automatic|5xxgm4a73fg353538|   ca|      4.8|  2034.0|   red|     tan|  kia motors finance|15150|       17700|Tue Dec 16 2014 1...|\n",
            "|2015|     Ford|             Fusion|                  SE|      Sedan|   automatic|3fa6p0hdxfr145753|   ca|        2|  5559.0| white|   beige|enterprise vehicl...|15350|       12000|Tue Jan 13 2015 1...|\n",
            "|2015|      Kia|            Sorento|                  LX|        SUV|   automatic|5xyktca66fg561407|   ca|        5| 14634.0|silver|   black|kia motors americ...|20600|       21500|Tue Dec 16 2014 1...|\n",
            "|2014|Chevrolet|              Cruze|                 2LT|      Sedan|   automatic|1g1pe5sbxe7120097|   ca|     null| 15686.0|  blue|   black|avis rac/san leandro|13900|       10600|Tue Dec 16 2014 1...|\n",
            "|2015|   Nissan|             Altima|               2.5 S|      Sedan|   automatic|1n4al3ap5fc124223|   ca|        2| 11398.0| black|   black|enterprise vehicl...|14750|       14100|Tue Dec 23 2014 1...|\n",
            "|2015|  Hyundai|             Sonata|                  SE|      Sedan|        null|5npe24af4fh001562|   ca|     null|  8311.0|   red|       —|            avis tra|15200|        4200|Tue Dec 16 2014 1...|\n",
            "|2014|     Audi|                 Q5|2.0T Premium Plus...|        SUV|   automatic|wa1lfafpxea085074|   ca|      4.9|  7983.0| white|   black|audi north scotts...|37100|       40000|Thu Dec 18 2014 1...|\n",
            "|2014|Chevrolet|             Camaro|                  LS|      Coupe|   automatic|2g1fa1e39e9134494|   ca|      1.7| 13441.0| black|   black|wells fargo deale...|17750|       17000|Tue Dec 30 2014 1...|\n",
            "|2014|      BMW|           6 Series|                650i|Convertible|   automatic|wbayp9c53ed169260|   ca|      3.4|  8819.0| black|   black|the hertz corpora...|68000|       67200|Wed Dec 17 2014 1...|\n",
            "+----+---------+-------------------+--------------------+-----------+------------+-----------------+-----+---------+--------+------+--------+--------------------+-----+------------+--------------------+\n",
            "only showing top 20 rows\n",
            "\n"
          ]
        }
      ]
    },
    {
      "cell_type": "code",
      "source": [
        "avg_con = data.agg({\"condition\": \"avg\"}).collect()[0][0]\n",
        "data = data.fillna(value = str(avg_con), subset = ['condition'])"
      ],
      "metadata": {
        "id": "w1IOS-eja2E-"
      },
      "execution_count": null,
      "outputs": []
    },
    {
      "cell_type": "markdown",
      "source": [
        "## 4) Trim"
      ],
      "metadata": {
        "id": "cFbYFaBFeko8"
      }
    },
    {
      "cell_type": "code",
      "source": [
        "data.select('trim').distinct().count()"
      ],
      "metadata": {
        "colab": {
          "base_uri": "https://localhost:8080/"
        },
        "id": "X7GKbnnDe-bQ",
        "outputId": "ebb4a9b1-2dde-4940-d144-aca82da1c426"
      },
      "execution_count": null,
      "outputs": [
        {
          "output_type": "execute_result",
          "data": {
            "text/plain": [
              "1977"
            ]
          },
          "metadata": {},
          "execution_count": 29
        }
      ]
    },
    {
      "cell_type": "code",
      "source": [
        "data.groupBy('trim').count().show()"
      ],
      "metadata": {
        "colab": {
          "base_uri": "https://localhost:8080/"
        },
        "id": "zADaoi5qa2L-",
        "outputId": "c78ef3bb-3232-4ced-92c2-55fc055d5581"
      },
      "execution_count": null,
      "outputs": [
        {
          "output_type": "stream",
          "name": "stdout",
          "text": [
            "+--------------------+-----+\n",
            "|                trim|count|\n",
            "+--------------------+-----+\n",
            "|                  LT|16915|\n",
            "|         G37 Journey| 2902|\n",
            "|                 hse|    2|\n",
            "|     C230 Kompressor|  111|\n",
            "|             Turbo S|   27|\n",
            "|          caravan se|   25|\n",
            "|          4x4 ex stx|    9|\n",
            "|    Laramie Longhorn|   10|\n",
            "|         2.2 Premium|    7|\n",
            "|            S Hybrid|   32|\n",
            "|            LS Fleet| 2361|\n",
            "|                 VR6|   12|\n",
            "|            Aveo5 LS|   97|\n",
            "|                 RTX|   14|\n",
            "|       MontanaVision|    8|\n",
            "|2.0T Premium Plus...|  308|\n",
            "|                PZEV|  100|\n",
            "|             S65 AMG|   12|\n",
            "| Special Edition V-6|   40|\n",
            "|  C320 Luxury 4MATIC|    6|\n",
            "+--------------------+-----+\n",
            "only showing top 20 rows\n",
            "\n"
          ]
        }
      ]
    },
    {
      "cell_type": "code",
      "source": [
        "data = data.na.drop(subset=[\"trim\"])"
      ],
      "metadata": {
        "id": "ipgjF9wyfH0K"
      },
      "execution_count": null,
      "outputs": []
    },
    {
      "cell_type": "markdown",
      "source": [
        "## 4) Vin"
      ],
      "metadata": {
        "id": "-Ih9DQqFfLgn"
      }
    },
    {
      "cell_type": "code",
      "source": [
        "# drop NA value\n",
        "data = data.na.drop(subset=[\"vin\"])"
      ],
      "metadata": {
        "id": "FlWAt2QHfKvS"
      },
      "execution_count": null,
      "outputs": []
    },
    {
      "cell_type": "markdown",
      "source": [
        "## 5) make"
      ],
      "metadata": {
        "id": "knsUPUPSfi4P"
      }
    },
    {
      "cell_type": "code",
      "source": [
        "data.groupBy('make').count().show(1530)"
      ],
      "metadata": {
        "colab": {
          "base_uri": "https://localhost:8080/"
        },
        "id": "FXcdH5ULfnEt",
        "outputId": "c506d930-298b-472a-cdc3-53ddf44ac8b9"
      },
      "execution_count": null,
      "outputs": [
        {
          "output_type": "stream",
          "name": "stdout",
          "text": [
            "+-------------+-----+\n",
            "|         make|count|\n",
            "+-------------+-----+\n",
            "|   Volkswagen|12577|\n",
            "|   Oldsmobile|  364|\n",
            "|     Infiniti|15305|\n",
            "|        Lexus|11861|\n",
            "|       Jaguar| 1420|\n",
            "|       Saturn| 2841|\n",
            "|         FIAT|  865|\n",
            "|     Maserati|  133|\n",
            "|        Scion| 1687|\n",
            "|  Rolls-Royce|   17|\n",
            "|         Jeep|15372|\n",
            "|   Mitsubishi| 4140|\n",
            "|          Kia|18077|\n",
            "|    Chevrolet|60179|\n",
            "|        Volvo| 3788|\n",
            "|      Hyundai|21816|\n",
            "|         Saab|  484|\n",
            "|        Honda|27203|\n",
            "|         MINI| 3224|\n",
            "|         Audi| 5869|\n",
            "|          Ram| 4574|\n",
            "|     Cadillac| 7519|\n",
            "|        Isuzu|  204|\n",
            "|     Plymouth|   20|\n",
            "|      Pontiac| 4497|\n",
            "|          Geo|   19|\n",
            "|   Land Rover| 1735|\n",
            "|Mercedes-Benz|17141|\n",
            "|      Mercury| 1992|\n",
            "|       Daewoo|    3|\n",
            "|      Lincoln| 5757|\n",
            "|     Chrysler|17276|\n",
            "|        Tesla|   23|\n",
            "|          BMW|20719|\n",
            "|       Suzuki| 1073|\n",
            "|        Acura| 5901|\n",
            "|       HUMMER|  805|\n",
            "|      Ferrari|   19|\n",
            "|          GMC|10613|\n",
            "|        Buick| 5107|\n",
            "|      Porsche| 1383|\n",
            "|       Fisker|    9|\n",
            "|        smart|  395|\n",
            "|      Bentley|  116|\n",
            "|       Toyota|39871|\n",
            "| Aston Martin|   25|\n",
            "|        Dodge|30710|\n",
            "|       Nissan|53946|\n",
            "|        Mazda| 8362|\n",
            "|         Ford|93554|\n",
            "|       Subaru| 5043|\n",
            "|  Lamborghini|    4|\n",
            "|        Lotus|    1|\n",
            "+-------------+-----+\n",
            "\n"
          ]
        }
      ]
    },
    {
      "cell_type": "code",
      "source": [
        "data = data.na.fill('Ford',subset=[\"make\"])"
      ],
      "metadata": {
        "id": "ksnSD1-FfnG6"
      },
      "execution_count": null,
      "outputs": []
    },
    {
      "cell_type": "markdown",
      "source": [
        "## 6) color"
      ],
      "metadata": {
        "id": "ubbeDzBJg-li"
      }
    },
    {
      "cell_type": "code",
      "source": [
        "data.groupBy('color').count().show(1530)"
      ],
      "metadata": {
        "colab": {
          "base_uri": "https://localhost:8080/"
        },
        "id": "WZVlwa2afnJm",
        "outputId": "9c0790a0-2044-42a0-fb0f-8571bac879fa"
      },
      "execution_count": null,
      "outputs": [
        {
          "output_type": "stream",
          "name": "stdout",
          "text": [
            "+---------+------+\n",
            "|    color| count|\n",
            "+---------+------+\n",
            "|        —| 24451|\n",
            "| charcoal|   472|\n",
            "|turquoise|   224|\n",
            "| burgundy|  8744|\n",
            "|   orange|  1986|\n",
            "|    green| 10796|\n",
            "|   yellow|  1232|\n",
            "|     null|   728|\n",
            "|   silver| 81467|\n",
            "|   purple|  1507|\n",
            "|    white|103639|\n",
            "|     gray| 81525|\n",
            "|     pink|    42|\n",
            "|     lime|    15|\n",
            "|      red| 42525|\n",
            "|     gold| 10898|\n",
            "|off-white|  1415|\n",
            "|    beige|  8905|\n",
            "|    black|108660|\n",
            "|    brown|  6611|\n",
            "|     blue| 49774|\n",
            "|    14872|     1|\n",
            "|     4802|     1|\n",
            "|    12655|     1|\n",
            "|     1167|     1|\n",
            "|     9410|     1|\n",
            "|     2172|     1|\n",
            "|    15719|     1|\n",
            "|     6388|     1|\n",
            "|     2846|     1|\n",
            "|    18384|     1|\n",
            "|     6864|     1|\n",
            "|     5001|     1|\n",
            "|     9887|     1|\n",
            "|     9837|     1|\n",
            "|    18561|     1|\n",
            "|    11034|     1|\n",
            "|    20627|     1|\n",
            "|     6158|     1|\n",
            "|    16633|     1|\n",
            "|      339|     1|\n",
            "|      721|     1|\n",
            "|     5705|     1|\n",
            "+---------+------+\n",
            "\n"
          ]
        }
      ]
    },
    {
      "cell_type": "code",
      "source": [
        "data = data.filter((data.color != '14872') & (data.color != '4802') & (data.color != '12655')& (data.color != '1167')& (data.color != '1167')& (data.color != '9410')& (data.color != '2172')& (data.color != '15719')& (data.color != '6388')& (data.color != '2846')& (data.color != '18384')& (data.color != '6864')& (data.color != '5001')& (data.color != '9887')& (data.color != '9837')& (data.color != '18561')& (data.color != '11034')& (data.color != '20627')& (data.color != '6158')& (data.color != '16633')& (data.color != '339')& (data.color != '721')& (data.color != '5705'))"
      ],
      "metadata": {
        "id": "7PH9LfDjfnME"
      },
      "execution_count": null,
      "outputs": []
    },
    {
      "cell_type": "code",
      "source": [
        "data.groupBy('color').count().show(1530)"
      ],
      "metadata": {
        "colab": {
          "base_uri": "https://localhost:8080/"
        },
        "id": "By9nEGoXijdU",
        "outputId": "033bbf29-69e4-460c-ee1d-8bd0b6b1a6b3"
      },
      "execution_count": null,
      "outputs": [
        {
          "output_type": "stream",
          "name": "stdout",
          "text": [
            "+---------+------+\n",
            "|    color| count|\n",
            "+---------+------+\n",
            "|        —| 24451|\n",
            "| charcoal|   472|\n",
            "|turquoise|   224|\n",
            "| burgundy|  8744|\n",
            "|   orange|  1986|\n",
            "|    green| 10796|\n",
            "|   yellow|  1232|\n",
            "|   silver| 81467|\n",
            "|   purple|  1507|\n",
            "|    white|103639|\n",
            "|     gray| 81525|\n",
            "|     pink|    42|\n",
            "|     lime|    15|\n",
            "|      red| 42525|\n",
            "|     gold| 10898|\n",
            "|off-white|  1415|\n",
            "|    beige|  8905|\n",
            "|    black|108660|\n",
            "|    brown|  6611|\n",
            "|     blue| 49774|\n",
            "+---------+------+\n",
            "\n"
          ]
        }
      ]
    },
    {
      "cell_type": "code",
      "source": [
        "data = data.withColumn('color', \n",
        "    when(data.color.contains('charcoal'),data.color)\n",
        "   .when(data.color.contains('turquoise'),data.color)\n",
        "   .when(data.color.contains('burgundy'),data.color)\n",
        "   .when(data.color.contains('orange'),data.color)\n",
        "   .when(data.color.contains('green'),data.color)\n",
        "   .when(data.color.contains('yellow'),data.color)\n",
        "   .when(data.color.contains('silver'),data.color)\n",
        "   .when(data.color.contains('purple'),data.color)\n",
        "   .when(data.color.contains('white'),data.color)\n",
        "   .when(data.color.contains('gray'),data.color)\n",
        "   .when(data.color.contains('pink'),data.color)\n",
        "   .when(data.color.contains('lime'),data.color)\n",
        "   .when(data.color.contains('red'),data.color)\n",
        "   .when(data.color.contains('gold'),data.color)\n",
        "   .when(data.color.contains('off-white'),data.color)\n",
        "   .when(data.color.contains('beige'),data.color)\n",
        "   .when(data.color.contains('black'),data.color)\n",
        "   .when(data.color.contains('brown'),data.color)\n",
        "   .when(data.color.contains('blue'),data.color)\n",
        "   .otherwise('black'))"
      ],
      "metadata": {
        "id": "qH4fnbr4oa1U"
      },
      "execution_count": null,
      "outputs": []
    },
    {
      "cell_type": "code",
      "source": [
        "data.groupBy('color').count().show(1530)"
      ],
      "metadata": {
        "colab": {
          "base_uri": "https://localhost:8080/"
        },
        "id": "8FHQcFTmoa3e",
        "outputId": "a6e93b50-1642-40bf-fa8e-f1abbbb9bda7"
      },
      "execution_count": null,
      "outputs": [
        {
          "output_type": "stream",
          "name": "stdout",
          "text": [
            "+---------+------+\n",
            "|    color| count|\n",
            "+---------+------+\n",
            "| charcoal|   472|\n",
            "|turquoise|   224|\n",
            "| burgundy|  8744|\n",
            "|   orange|  1986|\n",
            "|    green| 10796|\n",
            "|   yellow|  1232|\n",
            "|   silver| 81467|\n",
            "|   purple|  1507|\n",
            "|    white|103639|\n",
            "|     gray| 81525|\n",
            "|     pink|    42|\n",
            "|     lime|    15|\n",
            "|      red| 42525|\n",
            "|     gold| 10898|\n",
            "|off-white|  1415|\n",
            "|    beige|  8905|\n",
            "|    black|133111|\n",
            "|    brown|  6611|\n",
            "|     blue| 49774|\n",
            "+---------+------+\n",
            "\n"
          ]
        }
      ]
    },
    {
      "cell_type": "markdown",
      "source": [
        "## 7) interior"
      ],
      "metadata": {
        "id": "5DeHIFq_jckz"
      }
    },
    {
      "cell_type": "code",
      "source": [
        "data.groupBy('interior').count().show(1530)"
      ],
      "metadata": {
        "colab": {
          "base_uri": "https://localhost:8080/"
        },
        "id": "mN1JDE5Wijhh",
        "outputId": "9cba4e89-b7fc-4a46-ed50-7b37a76d8b96"
      },
      "execution_count": null,
      "outputs": [
        {
          "output_type": "stream",
          "name": "stdout",
          "text": [
            "+---------+------+\n",
            "| interior| count|\n",
            "+---------+------+\n",
            "|        —| 16409|\n",
            "| burgundy|   184|\n",
            "|   orange|   135|\n",
            "|    green|   225|\n",
            "|   yellow|    20|\n",
            "|   silver|  1065|\n",
            "|   purple|   331|\n",
            "|    white|   244|\n",
            "|     gray|173443|\n",
            "|      red|  1312|\n",
            "|off-white|   480|\n",
            "|     gold|   314|\n",
            "|    beige| 58268|\n",
            "|      tan| 42798|\n",
            "|    black|240210|\n",
            "|    brown|  8410|\n",
            "|     blue|  1040|\n",
            "+---------+------+\n",
            "\n"
          ]
        }
      ]
    },
    {
      "cell_type": "code",
      "source": [
        "data = data.withColumn('interior', \n",
        "    when(data.interior.contains('burgundy'),data.interior)\n",
        "   .when(data.interior.contains('orange'),data.interior)\n",
        "   .when(data.interior.contains('green'),data.interior)\n",
        "   .when(data.interior.contains('yellow'),data.interior)\n",
        "   .when(data.interior.contains('silver'),data.interior)\n",
        "   .when(data.interior.contains('purple'),data.interior)\n",
        "   .when(data.interior.contains('white'),data.interior)\n",
        "   .when(data.interior.contains('gray'),data.interior)\n",
        "   .when(data.interior.contains('red'),data.interior)\n",
        "   .when(data.interior.contains('off-white'),data.interior)\n",
        "   .when(data.interior.contains('gold'),data.interior)\n",
        "   .when(data.interior.contains('beige'),data.interior)\n",
        "   .when(data.interior.contains('tan'),data.interior)\n",
        "   .when(data.interior.contains('black'),data.interior)\n",
        "   .when(data.interior.contains('brown'),data.interior)\n",
        "   .when(data.interior.contains('blue'),data.interior)\n",
        "   .otherwise('black'))"
      ],
      "metadata": {
        "id": "lZIStc8JmyWv"
      },
      "execution_count": null,
      "outputs": []
    },
    {
      "cell_type": "code",
      "source": [
        "data.groupBy('interior').count().show(1530)"
      ],
      "metadata": {
        "colab": {
          "base_uri": "https://localhost:8080/"
        },
        "id": "XR4-hupikRAM",
        "outputId": "518f378b-c1a9-4869-ce25-cd8868ee4cbf"
      },
      "execution_count": null,
      "outputs": [
        {
          "output_type": "stream",
          "name": "stdout",
          "text": [
            "+---------+------+\n",
            "| interior| count|\n",
            "+---------+------+\n",
            "| burgundy|   184|\n",
            "|   orange|   135|\n",
            "|    green|   225|\n",
            "|   yellow|    20|\n",
            "|   silver|  1065|\n",
            "|   purple|   331|\n",
            "|    white|   244|\n",
            "|     gray|173443|\n",
            "|      red|  1312|\n",
            "|off-white|   480|\n",
            "|     gold|   314|\n",
            "|    beige| 58268|\n",
            "|      tan| 42798|\n",
            "|    black|256619|\n",
            "|    brown|  8410|\n",
            "|     blue|  1040|\n",
            "+---------+------+\n",
            "\n"
          ]
        }
      ]
    },
    {
      "cell_type": "markdown",
      "source": [
        "## 8) Odometer"
      ],
      "metadata": {
        "id": "SUBKq9VFfi6p"
      }
    },
    {
      "cell_type": "code",
      "source": [
        "avg_odo = data.agg({\"odometer\": \"avg\"}).collect()[0][0]\n",
        "data = data.na.fill(value=avg_odo,subset=[\"odometer\"])"
      ],
      "metadata": {
        "id": "GGN8P5jbj5Ei"
      },
      "execution_count": null,
      "outputs": []
    },
    {
      "cell_type": "markdown",
      "source": [
        "## 9) Model"
      ],
      "metadata": {
        "id": "7WtOH_Rupruu"
      }
    },
    {
      "cell_type": "code",
      "source": [
        "test = data.groupBy('model').count()"
      ],
      "metadata": {
        "id": "X5FdYaBfj5HK"
      },
      "execution_count": null,
      "outputs": []
    },
    {
      "cell_type": "code",
      "source": [
        "test.orderBy(col(\"count\").desc()).show(truncate=False)"
      ],
      "metadata": {
        "colab": {
          "base_uri": "https://localhost:8080/"
        },
        "id": "2IYmaDJvqejy",
        "outputId": "4ea2adc4-034c-4fe3-f8bf-0832bc678e00"
      },
      "execution_count": null,
      "outputs": [
        {
          "output_type": "stream",
          "name": "stdout",
          "text": [
            "+--------------+-----+\n",
            "|model         |count|\n",
            "+--------------+-----+\n",
            "|Altima        |19426|\n",
            "|F-150         |14460|\n",
            "|Fusion        |12904|\n",
            "|Camry         |12540|\n",
            "|Escape        |11834|\n",
            "|Focus         |10368|\n",
            "|Accord        |9124 |\n",
            "|3 Series      |8186 |\n",
            "|Grand Caravan |7937 |\n",
            "|Impala        |7919 |\n",
            "|Explorer      |7693 |\n",
            "|Civic         |7430 |\n",
            "|G Sedan       |7412 |\n",
            "|Corolla       |7352 |\n",
            "|Malibu        |7027 |\n",
            "|Sonata        |6911 |\n",
            "|Maxima        |6602 |\n",
            "|Silverado 1500|6358 |\n",
            "|Cruze         |6347 |\n",
            "|Elantra       |6256 |\n",
            "+--------------+-----+\n",
            "only showing top 20 rows\n",
            "\n"
          ]
        }
      ]
    },
    {
      "cell_type": "code",
      "source": [
        "data = data.na.fill(value=\"Altima\",subset=[\"model\"])"
      ],
      "metadata": {
        "id": "qZAjvfkIrDzS"
      },
      "execution_count": null,
      "outputs": []
    },
    {
      "cell_type": "code",
      "source": [
        "data.select([count(when(isnan(c) | col(c).isNull(), c)).alias(c) for c in data.columns]).show()"
      ],
      "metadata": {
        "colab": {
          "base_uri": "https://localhost:8080/"
        },
        "id": "TmkI4g27r1Qf",
        "outputId": "5a1970d4-2198-4f6c-ba3a-c3f9dda1c25c"
      },
      "execution_count": null,
      "outputs": [
        {
          "output_type": "stream",
          "name": "stdout",
          "text": [
            "+----+----+-----+----+----+------------+---+-----+---------+--------+-----+--------+------+---+------------+--------+----------+\n",
            "|year|make|model|trim|body|transmission|vin|state|condition|odometer|color|interior|seller|mmr|sellingprice|saledate|madeRegion|\n",
            "+----+----+-----+----+----+------------+---+-----+---------+--------+-----+--------+------+---+------------+--------+----------+\n",
            "|   0|   0|    0|   0|   0|           0|  0|    0|        0|       0|    0|       0|     0|  0|           0|       0|         0|\n",
            "+----+----+-----+----+----+------------+---+-----+---------+--------+-----+--------+------+---+------------+--------+----------+\n",
            "\n"
          ]
        }
      ]
    },
    {
      "cell_type": "markdown",
      "source": [
        "# 2. Feature Engineering"
      ],
      "metadata": {
        "id": "QtU6pIYXrWi-"
      }
    },
    {
      "cell_type": "markdown",
      "source": [
        "## 1) Vin (Vehicle identification number)\n",
        "The first 2 letters of Vin means country or region codes. Except this, other information decreases the accuracy of model."
      ],
      "metadata": {
        "id": "TSsi5fOy5Miz"
      }
    },
    {
      "cell_type": "code",
      "source": [
        "data = data.withColumn('madeRegion', data.vin.substr(1,2))\n",
        "data = data.drop('vin')"
      ],
      "metadata": {
        "id": "qXwRPcyH4jHR"
      },
      "execution_count": null,
      "outputs": []
    },
    {
      "cell_type": "code",
      "source": [
        "data.show()"
      ],
      "metadata": {
        "colab": {
          "base_uri": "https://localhost:8080/"
        },
        "id": "WnvBbicorbsv",
        "outputId": "dd214bb5-d5a3-4e77-eac2-1440f693f0f5"
      },
      "execution_count": null,
      "outputs": [
        {
          "output_type": "stream",
          "name": "stdout",
          "text": [
            "+----+---------+-------------------+--------------------+-----------+------------+-----+------------------+--------+------+--------+--------------------+-----+------------+--------+----------+\n",
            "|year|     make|              model|                trim|       body|transmission|state|         condition|odometer| color|interior|              seller|  mmr|sellingprice|saledate|madeRegion|\n",
            "+----+---------+-------------------+--------------------+-----------+------------+-----+------------------+--------+------+--------+--------------------+-----+------------+--------+----------+\n",
            "|2015|      Kia|            Sorento|                  LX|        suv|   automatic|   ca|                 5| 16639.0| white|   black|kia motors americ...|20500|       21500|    2014|        5x|\n",
            "|2015|      Kia|            Sorento|                  LX|        suv|   automatic|   ca|                 5|  9393.0| white|   beige|kia motors americ...|20800|       21500|    2014|        5x|\n",
            "|2014|      BMW|           3 Series|          328i SULEV|      sedan|   automatic|   ca|               4.5|  1331.0|  gray|   black|financial service...|31900|       30000|    2015|        wb|\n",
            "|2015|    Volvo|                S60|                  T5|      sedan|   automatic|   ca|               4.1| 14282.0| white|   black|volvo na rep/worl...|27500|       27750|    2015|        yv|\n",
            "|2014|      BMW|6 Series Gran Coupe|                650i|      sedan|   automatic|   ca|               4.3|  2641.0|  gray|   black|financial service...|66000|       67000|    2014|        wb|\n",
            "|2015|   Nissan|             Altima|               2.5 S|      sedan|   automatic|   ca|                 1|  5554.0|  gray|   black|enterprise vehicl...|15350|       10900|    2014|        1n|\n",
            "|2014|      BMW|                 M5|                Base|      sedan|   automatic|   ca|               3.4| 14943.0| black|   black|the hertz corpora...|69000|       65000|    2014|        wb|\n",
            "|2014|Chevrolet|              Cruze|                 1LT|      sedan|   automatic|   ca|                 2| 28617.0| black|   black|enterprise vehicl...|11900|        9800|    2014|        1g|\n",
            "|2014|     Audi|                 A4|2.0T Premium Plus...|      sedan|   automatic|   ca|               4.2|  9557.0| white|   black|  audi mission viejo|32100|       32250|    2014|        wa|\n",
            "|2014|Chevrolet|             Camaro|                  LT|convertible|   automatic|   ca|                 3|  4809.0|   red|   black|  d/m auto sales inc|26300|       17500|    2015|        2g|\n",
            "|2014|     Audi|                 A6|3.0T Prestige qua...|      sedan|   automatic|   ca|               4.8| 14414.0| black|   black|   desert auto trade|47300|       49750|    2014|        wa|\n",
            "|2015|      Kia|             Optima|                  LX|      sedan|   automatic|   ca|               4.8|  2034.0|   red|     tan|  kia motors finance|15150|       17700|    2014|        5x|\n",
            "|2015|     Ford|             Fusion|                  SE|      sedan|   automatic|   ca|                 2|  5559.0| white|   beige|enterprise vehicl...|15350|       12000|    2015|        3f|\n",
            "|2015|      Kia|            Sorento|                  LX|        suv|   automatic|   ca|                 5| 14634.0|silver|   black|kia motors americ...|20600|       21500|    2014|        5x|\n",
            "|2014|Chevrolet|              Cruze|                 2LT|      sedan|   automatic|   ca|3.4365174321136176| 15686.0|  blue|   black|avis rac/san leandro|13900|       10600|    2014|        1g|\n",
            "|2015|   Nissan|             Altima|               2.5 S|      sedan|   automatic|   ca|                 2| 11398.0| black|   black|enterprise vehicl...|14750|       14100|    2014|        1n|\n",
            "|2015|  Hyundai|             Sonata|                  SE|      sedan|   automatic|   ca|3.4365174321136176|  8311.0|   red|   black|            avis tra|15200|        4200|    2014|        5n|\n",
            "|2014|     Audi|                 Q5|2.0T Premium Plus...|        suv|   automatic|   ca|               4.9|  7983.0| white|   black|audi north scotts...|37100|       40000|    2014|        wa|\n",
            "|2014|Chevrolet|             Camaro|                  LS|      coupe|   automatic|   ca|               1.7| 13441.0| black|   black|wells fargo deale...|17750|       17000|    2014|        2g|\n",
            "|2014|      BMW|           6 Series|                650i|convertible|   automatic|   ca|               3.4|  8819.0| black|   black|the hertz corpora...|68000|       67200|    2014|        wb|\n",
            "+----+---------+-------------------+--------------------+-----------+------------+-----+------------------+--------+------+--------+--------------------+-----+------------+--------+----------+\n",
            "only showing top 20 rows\n",
            "\n"
          ]
        }
      ]
    },
    {
      "cell_type": "markdown",
      "source": [
        "## 2) Saledate\n",
        "\n",
        "Saledate consists of day, date, time. However, in car market, only year does matter. For this reason, I am going to remove extra information and leave only year date."
      ],
      "metadata": {
        "id": "tn4V0qvsr_Rh"
      }
    },
    {
      "cell_type": "code",
      "source": [
        "data.collect()[40][15]"
      ],
      "metadata": {
        "colab": {
          "base_uri": "https://localhost:8080/",
          "height": 35
        },
        "id": "a3qbp1Ng7Pi0",
        "outputId": "ccd3251f-8d55-459e-a12b-b34e5ab81a08"
      },
      "execution_count": null,
      "outputs": [
        {
          "output_type": "execute_result",
          "data": {
            "text/plain": [
              "'Wed Feb 04 2015 04:30:00 GMT-0800 (PST)'"
            ],
            "application/vnd.google.colaboratory.intrinsic+json": {
              "type": "string"
            }
          },
          "metadata": {},
          "execution_count": 15
        }
      ]
    },
    {
      "cell_type": "code",
      "source": [
        "data = data.withColumn('saledate', data.saledate.substr(12,4))"
      ],
      "metadata": {
        "id": "VmViQhUSr7eC"
      },
      "execution_count": null,
      "outputs": []
    },
    {
      "cell_type": "code",
      "source": [
        "data.show()"
      ],
      "metadata": {
        "colab": {
          "base_uri": "https://localhost:8080/"
        },
        "id": "BidTFbTq5zD_",
        "outputId": "d664f81f-8686-4007-e8fb-73094f4c4e74"
      },
      "execution_count": null,
      "outputs": [
        {
          "output_type": "stream",
          "name": "stdout",
          "text": [
            "+----+---------+-------------------+--------------------+-----------+------------+-----------------+-----+------------------+--------+------+--------+--------------------+-----+------------+--------+----------+\n",
            "|year|     make|              model|                trim|       body|transmission|              vin|state|         condition|odometer| color|interior|              seller|  mmr|sellingprice|saledate|madeRegion|\n",
            "+----+---------+-------------------+--------------------+-----------+------------+-----------------+-----+------------------+--------+------+--------+--------------------+-----+------------+--------+----------+\n",
            "|2015|      Kia|            Sorento|                  LX|        suv|   automatic|5xyktca69fg566472|   ca|                 5| 16639.0| white|   black|kia motors americ...|20500|       21500|    2014|        5x|\n",
            "|2015|      Kia|            Sorento|                  LX|        suv|   automatic|5xyktca69fg561319|   ca|                 5|  9393.0| white|   beige|kia motors americ...|20800|       21500|    2014|        5x|\n",
            "|2014|      BMW|           3 Series|          328i SULEV|      sedan|   automatic|wba3c1c51ek116351|   ca|               4.5|  1331.0|  gray|   black|financial service...|31900|       30000|    2015|        wb|\n",
            "|2015|    Volvo|                S60|                  T5|      sedan|   automatic|yv1612tb4f1310987|   ca|               4.1| 14282.0| white|   black|volvo na rep/worl...|27500|       27750|    2015|        yv|\n",
            "|2014|      BMW|6 Series Gran Coupe|                650i|      sedan|   automatic|wba6b2c57ed129731|   ca|               4.3|  2641.0|  gray|   black|financial service...|66000|       67000|    2014|        wb|\n",
            "|2015|   Nissan|             Altima|               2.5 S|      sedan|   automatic|1n4al3ap1fn326013|   ca|                 1|  5554.0|  gray|   black|enterprise vehicl...|15350|       10900|    2014|        1n|\n",
            "|2014|      BMW|                 M5|                Base|      sedan|   automatic|wbsfv9c51ed593089|   ca|               3.4| 14943.0| black|   black|the hertz corpora...|69000|       65000|    2014|        wb|\n",
            "|2014|Chevrolet|              Cruze|                 1LT|      sedan|   automatic|1g1pc5sb2e7128460|   ca|                 2| 28617.0| black|   black|enterprise vehicl...|11900|        9800|    2014|        1g|\n",
            "|2014|     Audi|                 A4|2.0T Premium Plus...|      sedan|   automatic|wauffafl3en030343|   ca|               4.2|  9557.0| white|   black|  audi mission viejo|32100|       32250|    2014|        wa|\n",
            "|2014|Chevrolet|             Camaro|                  LT|convertible|   automatic|2g1fb3d37e9218789|   ca|                 3|  4809.0|   red|   black|  d/m auto sales inc|26300|       17500|    2015|        2g|\n",
            "|2014|     Audi|                 A6|3.0T Prestige qua...|      sedan|   automatic|wauhgafc0en062916|   ca|               4.8| 14414.0| black|   black|   desert auto trade|47300|       49750|    2014|        wa|\n",
            "|2015|      Kia|             Optima|                  LX|      sedan|   automatic|5xxgm4a73fg353538|   ca|               4.8|  2034.0|   red|     tan|  kia motors finance|15150|       17700|    2014|        5x|\n",
            "|2015|     Ford|             Fusion|                  SE|      sedan|   automatic|3fa6p0hdxfr145753|   ca|                 2|  5559.0| white|   beige|enterprise vehicl...|15350|       12000|    2015|        3f|\n",
            "|2015|      Kia|            Sorento|                  LX|        suv|   automatic|5xyktca66fg561407|   ca|                 5| 14634.0|silver|   black|kia motors americ...|20600|       21500|    2014|        5x|\n",
            "|2014|Chevrolet|              Cruze|                 2LT|      sedan|   automatic|1g1pe5sbxe7120097|   ca|3.4365174321136176| 15686.0|  blue|   black|avis rac/san leandro|13900|       10600|    2014|        1g|\n",
            "|2015|   Nissan|             Altima|               2.5 S|      sedan|   automatic|1n4al3ap5fc124223|   ca|                 2| 11398.0| black|   black|enterprise vehicl...|14750|       14100|    2014|        1n|\n",
            "|2015|  Hyundai|             Sonata|                  SE|      sedan|   automatic|5npe24af4fh001562|   ca|3.4365174321136176|  8311.0|   red|   black|            avis tra|15200|        4200|    2014|        5n|\n",
            "|2014|     Audi|                 Q5|2.0T Premium Plus...|        suv|   automatic|wa1lfafpxea085074|   ca|               4.9|  7983.0| white|   black|audi north scotts...|37100|       40000|    2014|        wa|\n",
            "|2014|Chevrolet|             Camaro|                  LS|      coupe|   automatic|2g1fa1e39e9134494|   ca|               1.7| 13441.0| black|   black|wells fargo deale...|17750|       17000|    2014|        2g|\n",
            "|2014|      BMW|           6 Series|                650i|convertible|   automatic|wbayp9c53ed169260|   ca|               3.4|  8819.0| black|   black|the hertz corpora...|68000|       67200|    2014|        wb|\n",
            "+----+---------+-------------------+--------------------+-----------+------------+-----------------+-----+------------------+--------+------+--------+--------------------+-----+------------+--------+----------+\n",
            "only showing top 20 rows\n",
            "\n"
          ]
        }
      ]
    },
    {
      "cell_type": "code",
      "source": [
        "data.toPandas().to_csv('/content/drive/MyDrive/BigData/finalProject/cleaned_data.csv')"
      ],
      "metadata": {
        "id": "khof3N0m7WVA"
      },
      "execution_count": null,
      "outputs": []
    }
  ]
}